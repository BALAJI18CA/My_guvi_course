{
  "nbformat": 4,
  "nbformat_minor": 0,
  "metadata": {
    "colab": {
      "name": "Input/Output.ipynb",
      "provenance": []
    },
    "kernelspec": {
      "name": "python3",
      "display_name": "Python 3"
    },
    "language_info": {
      "name": "python"
    }
  },
  "cells": [
    {
      "cell_type": "markdown",
      "source": [
        "#Basic Input/Output- Python"
      ],
      "metadata": {
        "id": "eYXndEakBU8O"
      }
    },
    {
      "cell_type": "markdown",
      "source": [
        "##Write a code to get the input in the given format and print the output in the given format.\n",
        "\n"
      ],
      "metadata": {
        "id": "hGQfZ_sS-EPr"
      }
    },
    {
      "cell_type": "markdown",
      "source": [
        "###Input Description:\n",
        "###A single line contains a string.\n",
        "\n",
        "###Output Description:\n",
        "###Print the characters in a string separated by comma."
      ],
      "metadata": {
        "id": "Q_BKOH-4-RZy"
      }
    },
    {
      "cell_type": "code",
      "source": [
        "a=input()\n",
        "print(*a,sep=\",\")"
      ],
      "metadata": {
        "id": "18k6qLSD-aD_"
      },
      "execution_count": null,
      "outputs": []
    },
    {
      "cell_type": "markdown",
      "source": [
        "##Write a code to get the input in the given format and print the output in the given format."
      ],
      "metadata": {
        "id": "bJ85xLhV-kCO"
      }
    },
    {
      "cell_type": "markdown",
      "source": [
        "###Input Description:\n",
        "###A single line contains a string.\n",
        "\n",
        "###Output Description:\n",
        "###Print the characters in a string separated by line."
      ],
      "metadata": {
        "id": "wGPq7F0L-kMp"
      }
    },
    {
      "cell_type": "code",
      "source": [
        "a=input()\n",
        "for i in a:\n",
        "    print(*i)"
      ],
      "metadata": {
        "id": "nGFTGyFJ-kPN"
      },
      "execution_count": null,
      "outputs": []
    },
    {
      "cell_type": "markdown",
      "source": [
        "##Write a code to get the input in the given format and print the output in the given format."
      ],
      "metadata": {
        "id": "Fau4rJE9-kR7"
      }
    },
    {
      "cell_type": "markdown",
      "source": [
        "###Input Description:\n",
        "###A single line contains three float values separated by space.\n",
        "\n",
        "###Output Description:\n",
        "###Print the float value separated by line."
      ],
      "metadata": {
        "id": "0XlNkBee-kVE"
      }
    },
    {
      "cell_type": "code",
      "source": [
        "a=list(map(float,input().split()))\n",
        "for i in a:\n",
        "    print(i)\n"
      ],
      "metadata": {
        "id": "xctsh0Z0-kXr"
      },
      "execution_count": null,
      "outputs": []
    },
    {
      "cell_type": "markdown",
      "source": [
        "##Write a code to get the input in the given format and print the output in the given format"
      ],
      "metadata": {
        "id": "TmJflzGp-kaT"
      }
    },
    {
      "cell_type": "markdown",
      "source": [
        "###Input Description:\n",
        "###A single line contains a string.\n",
        "\n",
        "###Output Description:\n",
        "###Print the characters in a string separated by space."
      ],
      "metadata": {
        "id": "XLShjfNF-kdH"
      }
    },
    {
      "cell_type": "code",
      "source": [
        "a=input()\n",
        "print(*a,sep=\" \")"
      ],
      "metadata": {
        "id": "N6VO0Fhu-kgH"
      },
      "execution_count": null,
      "outputs": []
    },
    {
      "cell_type": "markdown",
      "source": [
        "##Write a code to get the input in the given format and print the output in the given format"
      ],
      "metadata": {
        "id": "70M3t30B-krI"
      }
    },
    {
      "cell_type": "markdown",
      "source": [
        "###Input Description:\n",
        "###First-line indicates two integers separated by space. Second-line indicates three integers separated by space. Third-line indicates three integers separated by space\n",
        "\n",
        "###Output Description:\n",
        "###Print the input in the same format."
      ],
      "metadata": {
        "id": "RrTRnofwADV2"
      }
    },
    {
      "cell_type": "code",
      "source": [
        "a=list(map(int,input().split()))\n",
        "b=list(map(int,input().split()))\n",
        "c=list(map(int,input().split()))\n",
        "list=(a,b,c)\n",
        "for i in list:\n",
        "    print(*i)\n"
      ],
      "metadata": {
        "id": "VW5Y0w8cADkF"
      },
      "execution_count": null,
      "outputs": []
    },
    {
      "cell_type": "markdown",
      "source": [
        "##Write a code to get the input in the given format and print the output in the given format"
      ],
      "metadata": {
        "id": "byYLMTfMADoA"
      }
    },
    {
      "cell_type": "markdown",
      "source": [
        "###Input Description:\n",
        "###Three integers are given in line by line.\n",
        "\n",
        "###Output Description:\n",
        "###Print the integers in a single line separate by space."
      ],
      "metadata": {
        "id": "WcFfWPK8ADre"
      }
    },
    {
      "cell_type": "code",
      "source": [
        "a=int(input())\n",
        "b=int(input())\n",
        "c=int(input())\n",
        "print(a,b,c,sep=\" \")\n"
      ],
      "metadata": {
        "id": "VByyP7lXADux"
      },
      "execution_count": null,
      "outputs": []
    },
    {
      "cell_type": "markdown",
      "source": [
        "##Write a code to get the input in the given format and print the output in the given format"
      ],
      "metadata": {
        "id": "Dtd0fb6bADx1"
      }
    },
    {
      "cell_type": "markdown",
      "source": [
        "###Input Description:\n",
        "###First-line indicates two integers separated by space. Second-line indicates two integers separated by space. Third-line indicates two integers separated by space.\n",
        "\n",
        "###Output Description:\n",
        "###Print the input in the same format."
      ],
      "metadata": {
        "id": "AccYGCZYAD0j"
      }
    },
    {
      "cell_type": "code",
      "source": [
        "a=list(map(int,input().split()))\n",
        "a1=list(map(int,input().split()))\n",
        "a2=list(map(int,input().split()))\n",
        "list=(a,a1,a2)\n",
        "for i in list:\n",
        "  print(*i)"
      ],
      "metadata": {
        "id": "XMWdwzr1AD3i"
      },
      "execution_count": null,
      "outputs": []
    },
    {
      "cell_type": "markdown",
      "source": [
        "##Write a code to get the input in the given format and print the output in the given format."
      ],
      "metadata": {
        "id": "acwhMefYAD6s"
      }
    },
    {
      "cell_type": "markdown",
      "source": [
        "###Input Description:\n",
        "###First-line indicates two integers which are the size of array and 'K' value. Second-line indicates an integer contains elements of an array.\n",
        "\n",
        "###Output Description:\n",
        "###Print the taken input in the same format."
      ],
      "metadata": {
        "id": "2P66JoAEAD_P"
      }
    },
    {
      "cell_type": "code",
      "source": [
        "a,b=(input().split())\n",
        "c=list(map(int,input().split()[:int(a)]))\n",
        "print(a,b)\n",
        "print(*c,sep=\" \")"
      ],
      "metadata": {
        "id": "QiIcTwUuAEDV"
      },
      "execution_count": null,
      "outputs": []
    },
    {
      "cell_type": "markdown",
      "source": [
        "##Write a code to get the input in the given format and print the output in the given format"
      ],
      "metadata": {
        "id": "guYWedB4AEGw"
      }
    },
    {
      "cell_type": "markdown",
      "source": [
        "###Input Description:\n",
        "###A single line contains integers separated by space\n",
        "\n",
        "###Output Description:\n",
        "###Print the integer list of integers separated by space"
      ],
      "metadata": {
        "id": "uF7ZyvaDAk7Q"
      }
    },
    {
      "cell_type": "code",
      "source": [
        "a=list(map(int,input().split()))\n",
        "print(*a,sep=\" \")\n"
      ],
      "metadata": {
        "id": "cacB9B99Am5I"
      },
      "execution_count": null,
      "outputs": []
    },
    {
      "cell_type": "markdown",
      "source": [
        "##Write a code to get the input in the given format and print the output in the given format"
      ],
      "metadata": {
        "id": "9P_wbUT9AEJK"
      }
    },
    {
      "cell_type": "markdown",
      "source": [
        "###Input Description:\n",
        "###To take an integer value\n",
        "\n",
        "###Output Description:\n",
        "###Print the integer value"
      ],
      "metadata": {
        "id": "8DfkMzDLAqtF"
      }
    },
    {
      "cell_type": "code",
      "source": [
        "a=int(input())\n",
        "print(a)\n"
      ],
      "metadata": {
        "id": "N61nvt0gAssY"
      },
      "execution_count": null,
      "outputs": []
    }
  ]
}