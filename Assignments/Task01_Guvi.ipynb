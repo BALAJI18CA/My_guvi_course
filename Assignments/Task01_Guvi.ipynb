{
  "nbformat": 4,
  "nbformat_minor": 0,
  "metadata": {
    "colab": {
      "name": "Task01_Guvi.ipynb",
      "provenance": [],
      "collapsed_sections": []
    },
    "kernelspec": {
      "name": "python3",
      "display_name": "Python 3"
    },
    "language_info": {
      "name": "python"
    }
  },
  "cells": [
    {
      "cell_type": "markdown",
      "source": [
        "#Registration and Login system with Python, file handling\n"
      ],
      "metadata": {
        "id": "F3A4-Qvta4CJ"
      }
    },
    {
      "cell_type": "code",
      "source": [
        "\n",
        "import re\n",
        "import json\n",
        "from termcolor import colored\n",
        "\n",
        "file=open(\"Bank_Datas.txt\",\"w\")\n",
        "file.write(\"\\n\")\n",
        "file.close()\n",
        "\n",
        "count=0\n",
        "while count!=1:\n",
        "  n=int(input(\"For registration:   select 1.\\nFor login:          select 2. \\n\"))\n",
        "    \n",
        "  def username():\n",
        "    file=open(\"Bank_Datas.txt\",\"r\")\n",
        "    readfile=file.read()\n",
        "    temp=0\n",
        "    while temp!=1:\n",
        "      user=input(\"Enter Username/Email: \")\n",
        "      user=user.lower()\n",
        "      if user in readfile:\n",
        "        print(colored(\"username already exists\",'red'))\n",
        "        temp=0\n",
        "        continue\n",
        "      else:\n",
        "        if 97<=ord(user[0])<=112 and user.endswith('@gmail.com')==True or user.endswith('@yahoo.com')==True :\n",
        "          temp=1\n",
        "          break\n",
        "        else:\n",
        "          print(colored('Wrong input.Enter username in correct format:(eg: abc@gmail.com or abc@yahoo.com)','red'))\n",
        "  \n",
        "    return(user)\n",
        "\n",
        "  def password():\n",
        "    pswrd=input(\"Enter a password:\\npassword instructions:\\n1.password must be between 5 to 16 characters \\\n",
        "              \\n2.Must have minimum one special character('!','@','#','$','%','&')\\n3.Must have one digit \\\n",
        "              \\n4.Must have one lowercase letter \\n5.Must have one uppercase letter\\n\")\n",
        "    temp=0\n",
        "    while temp!=1:\n",
        "        l=any(ele.islower() for ele in pswrd)\n",
        "        u=any(ele.isupper() for ele in pswrd)\n",
        "        s=re.findall(\"[!@#$%&]\",pswrd)\n",
        "        if s:\n",
        "          sp=True\n",
        "        else:\n",
        "          sp=False\n",
        "        N=re.findall(\"\\d\",pswrd)\n",
        "        if N:\n",
        "          num=True\n",
        "        else:\n",
        "          num=False \n",
        "        if l==True and u==True and sp==True and num==True and 5<=len(pswrd)<=16:\n",
        "          temp=1\n",
        "          break\n",
        "        else:\n",
        "          print(colored(\"Wrong Input. read instructions and enter password\",'red'))\n",
        "          pswrd=input()\n",
        "      \n",
        "    return(pswrd)\n",
        "    \n",
        "  if n==1:\n",
        "    count=1\n",
        "    USER=username()\n",
        "    PASSWORD=password()\n",
        "\n",
        "\n",
        "    file=open(\"Bank_Datas.txt\",\"a\")\n",
        "    file.write(USER)\n",
        "    file.write(\" \")\n",
        "    file.write(PASSWORD)\n",
        "    file.write(\"\\n\")\n",
        "    file.close()\n",
        "    print(colored(\"User added Successfully!!\",'green','on_white',['dark','bold','underline','blink']))\n",
        "    #file=open(\"Bank_Datas.txt\",\"r\")       #to display the file\n",
        "    #print(file.read())\n",
        "    #file.close()\n",
        "\n",
        "  elif n==2:\n",
        "    count=1\n",
        "    dictn={}\n",
        "    with open(\"Bank_Datas.txt\") as file:\n",
        "      for line in file:\n",
        "        (key,value)=line.split()\n",
        "        dictn[key]=value\n",
        "\n",
        "    tempp=0\n",
        "    while tempp!=1:\n",
        "      user1=input(\"Enter username:\")\n",
        "      if user1 in dictn:\n",
        "        tempp=1\n",
        "        pass\n",
        "      else:\n",
        "        print(colored(\"user not found\",'red'))\n",
        "        print(\"for new user go to registration\")\n",
        "\n",
        "    tmp=0\n",
        "    while tmp!=3:\n",
        "      pswrd1=input(\"Enter the password\")\n",
        "      if pswrd1==dictn[user1]:\n",
        "        print(colored(\"User verified!!! Login successfull\",'green'))\n",
        "        break\n",
        "      else:\n",
        "        print(colored(\"wrong password: \",'red'),2-tmp,colored(\"attempts remaining\",'red'))\n",
        "        tmp+=1\n",
        "      \n",
        "    if tmp==3:\n",
        "      print(colored(\"Account banned for 24 hours\",'red'))\n",
        "      n=input(\"Do u wish to recover password? You will be able to login after 24hrs only!\\nyes/no\\n\")\n",
        "      if n=='yes':\n",
        "        print(\"Heres the password\",dictn[user1])\n",
        "      else:\n",
        "        print(\"login failed\")\n",
        "\n",
        "  elif n!=1 or n!=2:\n",
        "    print(\"enter correct input\")\n",
        "\n",
        "\n",
        "\n"
      ],
      "metadata": {
        "colab": {
          "base_uri": "https://localhost:8080/"
        },
        "id": "LrEz51UWxdO8",
        "outputId": "f4d72a74-03b6-4bda-89b8-cdaa3289494b"
      },
      "execution_count": 3,
      "outputs": [
        {
          "output_type": "stream",
          "name": "stdout",
          "text": [
            "For registration:   select 1.\n",
            "For login:          select 2. \n",
            "1\n",
            "Enter Username/Email: guvi@gmail.com\n",
            "Enter a password:\n",
            "password instructions:\n",
            "1.password must be between 5 to 16 characters               \n",
            "2.Must have minimum one special character('!','@','#','$','%','&')\n",
            "3.Must have one digit               \n",
            "4.Must have one lowercase letter \n",
            "5.Must have one uppercase letter\n",
            "Guv!123\n",
            "\u001b[5m\u001b[4m\u001b[1m\u001b[2m\u001b[47m\u001b[32mUser added Successfully!!\u001b[0m\n"
          ]
        }
      ]
    },
    {
      "cell_type": "code",
      "source": [
        ""
      ],
      "metadata": {
        "id": "AxEPOtelxuWs"
      },
      "execution_count": null,
      "outputs": []
    }
  ]
}