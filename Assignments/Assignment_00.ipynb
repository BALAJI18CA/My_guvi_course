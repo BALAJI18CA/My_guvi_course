{
  "nbformat": 4,
  "nbformat_minor": 0,
  "metadata": {
    "colab": {
      "name": "Copy of Assignment_Hari Kumar N.ipynb",
      "provenance": [],
      "collapsed_sections": [
        "1KWnbNl8kUI0",
        "Qmn5uvHQ8890",
        "W8dB10Oy9eVU"
      ]
    },
    "kernelspec": {
      "name": "python3",
      "display_name": "Python 3"
    },
    "language_info": {
      "name": "python"
    }
  },
  "cells": [
    {
      "cell_type": "markdown",
      "source": [
        "##Fibonacci"
      ],
      "metadata": {
        "id": "VurktdQl85Fm"
      }
    },
    {
      "cell_type": "code",
      "source": [
        "n=int(input(\"Enter the number of fibonacci numbers to be displayed\"))    #input how many fibonacci numbers to be displayed\n",
        "def fibonacci(n):\n",
        "    fib=[1,1]\n",
        "    for i in range(2,n):\n",
        "        fib.append(fib[i-1]+fib[i-2])\n",
        "    return(fib)\n",
        "print(\"The first\",n,\"numbers in fibonacci series are\")\n",
        "print(*fibonacci(n),sep=\",\")\n"
      ],
      "metadata": {
        "colab": {
          "base_uri": "https://localhost:8080/"
        },
        "id": "w-jj41pr-9sV",
        "outputId": "cec8ef99-1049-40d7-807b-809f31dd10ac"
      },
      "execution_count": null,
      "outputs": [
        {
          "output_type": "stream",
          "name": "stdout",
          "text": [
            "Enter the number of fibonacci numbers to be displayed5\n",
            "The first 5 numbers in fibonacci series are\n",
            "1,1,2,3,5\n"
          ]
        }
      ]
    },
    {
      "cell_type": "code",
      "source": [
        ""
      ],
      "metadata": {
        "id": "hRdK35p_XzYl"
      },
      "execution_count": null,
      "outputs": []
    },
    {
      "cell_type": "markdown",
      "source": [
        "## Reverse"
      ],
      "metadata": {
        "id": "-ZBsNWS9-w3C"
      }
    },
    {
      "cell_type": "code",
      "source": [
        "a=int(input(\"Enter the number to be reversed:\"))\n",
        "def revers_num(a):\n",
        "  rev=0\n",
        "  for i in range(len(str(a))-1):\n",
        "    k=a%10\n",
        "    a=a//10\n",
        "    rev=(k*10+rev*10)\n",
        "  rev=rev+a%10\n",
        "  return rev\n",
        "print(\"The reversed number is:\",revers_num(a))"
      ],
      "metadata": {
        "id": "6WMn6CDb2rpt",
        "colab": {
          "base_uri": "https://localhost:8080/"
        },
        "outputId": "713ef034-6d56-4932-f9da-a9c3d8f57b7c"
      },
      "execution_count": null,
      "outputs": [
        {
          "output_type": "stream",
          "name": "stdout",
          "text": [
            "Enter the number to be reversed:1234\n",
            "The reversed number is: 4321\n"
          ]
        }
      ]
    },
    {
      "cell_type": "markdown",
      "source": [
        "##Ascending/Not"
      ],
      "metadata": {
        "id": "dmFKNWa03BL-"
      }
    },
    {
      "cell_type": "code",
      "source": [
        "n=list(map(int,input().split(',')))    #enter numbers seperated by comma\n",
        "print(n)\n",
        "def ascend(n):\n",
        "  temp=0\n",
        "  for i in range(len(n)-1):\n",
        "    temp=0\n",
        "    for k in range(i,len(n)):\n",
        "      if n[i]<=n[k]:\n",
        "        continue\n",
        "      else:\n",
        "        temp+=1\n",
        "        \n",
        "  if temp==0:\n",
        "    print(\"True\")\n",
        "  else:\n",
        "    print(\"false\")\n",
        "ascend(n)"
      ],
      "metadata": {
        "id": "jpzEaYmL880i",
        "colab": {
          "base_uri": "https://localhost:8080/"
        },
        "outputId": "f13e7d12-37f6-4c77-fb08-6b48be583a91"
      },
      "execution_count": 9,
      "outputs": [
        {
          "output_type": "stream",
          "name": "stdout",
          "text": [
            "1,4,3,2\n",
            "[1, 4, 3, 2]\n",
            "false\n"
          ]
        }
      ]
    },
    {
      "cell_type": "markdown",
      "source": [
        "##Shift letter"
      ],
      "metadata": {
        "id": "p2Idx96g883J"
      }
    },
    {
      "cell_type": "code",
      "source": [
        "#ele='hi did u like my code'\n",
        "#n=2\n",
        "ele=input(\"enter the string: \")\n",
        "n=int(input(\"enter secret number:\"))\n",
        "def secret_code2(ele,n):\n",
        "  new_ele=list()\n",
        "  for i in range(len(ele)):\n",
        "    if ele[i]==\" \":\n",
        "      new_ele.append(ele[i])\n",
        "      continue\n",
        "    elif ele[i]==\".\":\n",
        "      new_ele.append(ele[i])\n",
        "      continue \n",
        "    else:\n",
        "      temp=ord(ele[i])\n",
        "      temp=temp+n\n",
        "      new_ele.append(chr(temp))\n",
        "  for i in range(len(ele)):\n",
        "    if ord(new_ele[i])>122:\n",
        "      tmp=(ord(new_ele[i])-122-n)\n",
        "      new_ele[i]=chr(97-tmp)\n",
        "  return new_ele\n",
        "a=secret_code2(ele,n)\n",
        "print(ele)\n",
        "print(*a,sep=\"\")"
      ],
      "metadata": {
        "id": "ozJBtFK4bx8u",
        "colab": {
          "base_uri": "https://localhost:8080/"
        },
        "outputId": "7bc3fe52-67fa-4705-d9b9-a545ca6a13d9"
      },
      "execution_count": null,
      "outputs": [
        {
          "output_type": "stream",
          "name": "stdout",
          "text": [
            "enter the string: hi did u like my code\n",
            "enter secret number:2\n",
            "hi did u like my code\n",
            "jk fkf w nkmg ob eqfg\n"
          ]
        }
      ]
    },
    {
      "cell_type": "code",
      "source": [
        ""
      ],
      "metadata": {
        "id": "3WkemW7TlvF3"
      },
      "execution_count": null,
      "outputs": []
    },
    {
      "cell_type": "markdown",
      "source": [
        "##Shiftletter_Reverse"
      ],
      "metadata": {
        "id": "1KWnbNl8kUI0"
      }
    },
    {
      "cell_type": "code",
      "source": [
        "#use ele='jk fkf w nkmg ob eqfg.'\n",
        "#use n=2\n",
        "ele=input(\"enter the string: \")\n",
        "n=int(input(\"enter secret number:\"))\n",
        "def secret_code2(ele,n):\n",
        "  new_ele=list()\n",
        "  for i in range(len(ele)):\n",
        "    if ele[i]==\" \":\n",
        "      new_ele.append(ele[i])\n",
        "      continue\n",
        "    elif ele[i]==\".\":\n",
        "      new_ele.append(ele[i])\n",
        "      continue \n",
        "    else:\n",
        "      temp=ord(ele[i])\n",
        "      temp=temp-n\n",
        "      new_ele.append(chr(temp))\n",
        "  for i in range(len(ele)):\n",
        "    if (new_ele[i]!=\" \" and new_ele[i]!=\".\") :\n",
        "      if ord(new_ele[i])<97:\n",
        "       tmp=(n-(97-ord(new_ele[i])))\n",
        "       new_ele[i]=chr(122-tmp)\n",
        "    else:\n",
        "      pass\n",
        "  return new_ele\n",
        "a=secret_code2(ele,n)\n",
        "print(ele)\n",
        "print(*a,sep=\"\")"
      ],
      "metadata": {
        "id": "s6XqJtS1gdEm",
        "outputId": "70bd0039-93a8-4c7c-b7b6-a5758384f4da",
        "colab": {
          "base_uri": "https://localhost:8080/"
        }
      },
      "execution_count": null,
      "outputs": [
        {
          "output_type": "stream",
          "name": "stdout",
          "text": [
            "enter the string: jk fkf w nkmg ob eqfg.\n",
            "enter secret number:2\n",
            "jk fkf w nkmg ob eqfg.\n",
            "hi did u like my code.\n"
          ]
        }
      ]
    },
    {
      "cell_type": "markdown",
      "source": [
        "##Minutes-Seconds"
      ],
      "metadata": {
        "id": "Qmn5uvHQ8890"
      }
    },
    {
      "cell_type": "code",
      "source": [
        "mins=int(input(\"Enter time in Minutes:\"))\n",
        "def time_convert(mins):\n",
        "  secs=mins*60\n",
        "  return secs\n",
        "print(\"The time in seconds is:\",time_convert(mins))\n"
      ],
      "metadata": {
        "id": "tYblBmMu9eST",
        "colab": {
          "base_uri": "https://localhost:8080/"
        },
        "outputId": "0a987499-be7d-4ef2-95b9-c2fd501977b9"
      },
      "execution_count": null,
      "outputs": [
        {
          "output_type": "stream",
          "name": "stdout",
          "text": [
            "Enter time in Minutes:360\n",
            "The time in seconds is: 21600\n"
          ]
        }
      ]
    },
    {
      "cell_type": "markdown",
      "source": [
        "##Years-Days"
      ],
      "metadata": {
        "id": "W8dB10Oy9eVU"
      }
    },
    {
      "cell_type": "code",
      "source": [
        "import math\n",
        "n=int(input(\"Enter age in Years:\"))\n",
        "def age_days(n):\n",
        "  days=n*365.2425\n",
        "  return math.ceil(days)\n",
        "print(\"The age in days is\",age_days(n))"
      ],
      "metadata": {
        "colab": {
          "base_uri": "https://localhost:8080/"
        },
        "id": "Zd4xCAnMCdIg",
        "outputId": "371dd839-8b13-494e-cc3e-cedb3005b5c1"
      },
      "execution_count": null,
      "outputs": [
        {
          "output_type": "stream",
          "name": "stdout",
          "text": [
            "Enter age in Years:29\n",
            "The age in days is 10593\n"
          ]
        }
      ]
    }
  ]
}