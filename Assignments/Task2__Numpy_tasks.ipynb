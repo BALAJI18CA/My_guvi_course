{
  "cells": [
    {
      "cell_type": "markdown",
      "metadata": {
        "id": "1o-xrdu0fKyO"
      },
      "source": [
        "# Numpy_Problems\n",
        "\n"
      ]
    },
    {
      "cell_type": "markdown",
      "metadata": {
        "id": "dHOx4J4bfKzD"
      },
      "source": [
        "#### 1. Import the numpy package under the name `np` (★☆☆) \n",
        "(**hint**: import … as …)"
      ]
    },
    {
      "cell_type": "code",
      "execution_count": 1,
      "metadata": {
        "collapsed": true,
        "id": "GgDQ1M-UfKzG"
      },
      "outputs": [],
      "source": [
        "import numpy as np"
      ]
    },
    {
      "cell_type": "markdown",
      "metadata": {
        "id": "WgImASJ9fKzL"
      },
      "source": [
        "#### 2. Print the numpy version and the configuration (★☆☆) \n",
        "(**hint**: np.\\_\\_version\\_\\_, np.show\\_config)"
      ]
    },
    {
      "cell_type": "code",
      "execution_count": 2,
      "metadata": {
        "id": "hh_pYd5sfKzN",
        "colab": {
          "base_uri": "https://localhost:8080/"
        },
        "outputId": "253c8bdc-fa70-4c2c-b63f-e6a55b6e9813"
      },
      "outputs": [
        {
          "output_type": "stream",
          "name": "stdout",
          "text": [
            "1.21.5\n",
            "blas_mkl_info:\n",
            "  NOT AVAILABLE\n",
            "blis_info:\n",
            "  NOT AVAILABLE\n",
            "openblas_info:\n",
            "    libraries = ['openblas', 'openblas']\n",
            "    library_dirs = ['/usr/local/lib']\n",
            "    language = c\n",
            "    define_macros = [('HAVE_CBLAS', None)]\n",
            "    runtime_library_dirs = ['/usr/local/lib']\n",
            "blas_opt_info:\n",
            "    libraries = ['openblas', 'openblas']\n",
            "    library_dirs = ['/usr/local/lib']\n",
            "    language = c\n",
            "    define_macros = [('HAVE_CBLAS', None)]\n",
            "    runtime_library_dirs = ['/usr/local/lib']\n",
            "lapack_mkl_info:\n",
            "  NOT AVAILABLE\n",
            "openblas_lapack_info:\n",
            "    libraries = ['openblas', 'openblas']\n",
            "    library_dirs = ['/usr/local/lib']\n",
            "    language = c\n",
            "    define_macros = [('HAVE_CBLAS', None)]\n",
            "    runtime_library_dirs = ['/usr/local/lib']\n",
            "lapack_opt_info:\n",
            "    libraries = ['openblas', 'openblas']\n",
            "    library_dirs = ['/usr/local/lib']\n",
            "    language = c\n",
            "    define_macros = [('HAVE_CBLAS', None)]\n",
            "    runtime_library_dirs = ['/usr/local/lib']\n",
            "Supported SIMD extensions in this NumPy install:\n",
            "    baseline = SSE,SSE2,SSE3\n",
            "    found = SSSE3,SSE41,POPCNT,SSE42,AVX,F16C,FMA3,AVX2\n",
            "    not found = AVX512F,AVX512CD,AVX512_KNL,AVX512_KNM,AVX512_SKX,AVX512_CLX,AVX512_CNL,AVX512_ICL\n"
          ]
        }
      ],
      "source": [
        "print(np.__version__)\n",
        "np.show_config()"
      ]
    },
    {
      "cell_type": "markdown",
      "metadata": {
        "id": "3T1ynwmTfKzO"
      },
      "source": [
        "#### 3. Create a null vector of size 10 (★☆☆) \n",
        "(**hint**: np.zeros)"
      ]
    },
    {
      "cell_type": "code",
      "execution_count": 3,
      "metadata": {
        "id": "2onhtXHbfKzR",
        "colab": {
          "base_uri": "https://localhost:8080/"
        },
        "outputId": "e11cc259-c3a5-44bc-e2c1-3db72de09ca4"
      },
      "outputs": [
        {
          "output_type": "stream",
          "name": "stdout",
          "text": [
            "[0. 0. 0. 0. 0. 0. 0. 0. 0. 0.]\n"
          ]
        }
      ],
      "source": [
        "x=np.zeros(10)\n",
        "print(x)"
      ]
    },
    {
      "cell_type": "markdown",
      "metadata": {
        "id": "Ys6bj0AhfKzT"
      },
      "source": [
        "#### 4.  How to find the memory size of any array (★☆☆) \n",
        "(**hint**: size, itemsize)"
      ]
    },
    {
      "cell_type": "code",
      "execution_count": 4,
      "metadata": {
        "id": "z9_FoRugfKzX",
        "colab": {
          "base_uri": "https://localhost:8080/"
        },
        "outputId": "5e955f95-c340-4fde-b816-ae2ac868e6f5"
      },
      "outputs": [
        {
          "output_type": "stream",
          "name": "stdout",
          "text": [
            "400 bytes\n"
          ]
        }
      ],
      "source": [
        "x=np.zeros((10,5))\n",
        "print(\"%d bytes\" % (x.size * x.itemsize))"
      ]
    },
    {
      "cell_type": "markdown",
      "metadata": {
        "id": "khgDN-IyfKzZ"
      },
      "source": [
        "#### 5.  How to get the documentation of the numpy add function from the command line? (★☆☆) \n",
        "(**hint**: np.info)"
      ]
    },
    {
      "cell_type": "code",
      "execution_count": 5,
      "metadata": {
        "collapsed": true,
        "id": "vhs2g9UYfKzb",
        "colab": {
          "base_uri": "https://localhost:8080/"
        },
        "outputId": "aa9f4088-9a7b-4a7e-a283-126e1a487f55"
      },
      "outputs": [
        {
          "output_type": "stream",
          "name": "stderr",
          "text": [
            "ERROR:root:File `'python -c \"import numpy; numpy.info(numpy.add)\".py'` not found.\n"
          ]
        }
      ],
      "source": [
        "%run 'python -c \"import numpy; numpy.info(numpy.add)\"'"
      ]
    },
    {
      "cell_type": "markdown",
      "metadata": {
        "id": "FRhw6BrEfKzc"
      },
      "source": [
        "#### 6.  Create a null vector of size 10 but the fifth value which is 1 (★☆☆) \n",
        "(**hint**: array\\[4\\])"
      ]
    },
    {
      "cell_type": "code",
      "execution_count": 6,
      "metadata": {
        "id": "cTSHfcJYfKzf",
        "colab": {
          "base_uri": "https://localhost:8080/"
        },
        "outputId": "eaa226d8-b6e7-4dcb-f145-b06d5cdeb7b7"
      },
      "outputs": [
        {
          "output_type": "stream",
          "name": "stdout",
          "text": [
            "[0. 0. 0. 0. 1. 0. 0. 0. 0. 0.]\n"
          ]
        }
      ],
      "source": [
        "array=np.zeros(10)\n",
        "array[4]=1\n",
        "print(array)"
      ]
    },
    {
      "cell_type": "markdown",
      "metadata": {
        "id": "Ijf2Vsv8fKzg"
      },
      "source": [
        "#### 7.  Create a vector with values ranging from 10 to 49 (★☆☆) \n",
        "(**hint**: np.arange)"
      ]
    },
    {
      "cell_type": "code",
      "execution_count": 7,
      "metadata": {
        "id": "GN3czvtgfKzj",
        "colab": {
          "base_uri": "https://localhost:8080/"
        },
        "outputId": "efb39215-2654-4e2f-a102-d27ca36852b4"
      },
      "outputs": [
        {
          "output_type": "stream",
          "name": "stdout",
          "text": [
            "[10 11 12 13 14 15 16 17 18 19 20 21 22 23 24 25 26 27 28 29 30 31 32 33\n",
            " 34 35 36 37 38 39 40 41 42 43 44 45 46 47 48 49]\n"
          ]
        }
      ],
      "source": [
        "aray=np.arange(10,50)\n",
        "print(aray)"
      ]
    },
    {
      "cell_type": "markdown",
      "metadata": {
        "id": "TeGRfC3bfKzk"
      },
      "source": [
        "#### 8.  Reverse a vector (first element becomes last) (★☆☆) \n",
        "(**hint**: array\\[::-1\\])"
      ]
    },
    {
      "cell_type": "code",
      "execution_count": 8,
      "metadata": {
        "id": "8jHcDMIXfKzm",
        "colab": {
          "base_uri": "https://localhost:8080/"
        },
        "outputId": "5e0ed363-0729-4ec4-fbd2-fd726f4f4541"
      },
      "outputs": [
        {
          "output_type": "stream",
          "name": "stdout",
          "text": [
            "[24 23 22 21 20 19 18 17 16 15 14 13 12 11 10  9  8  7  6  5  4  3  2  1]\n"
          ]
        }
      ],
      "source": [
        "aray=np.arange(1,25)\n",
        "aray_rev=aray[::-1]\n",
        "print(aray_rev)"
      ]
    },
    {
      "cell_type": "markdown",
      "metadata": {
        "id": "3OLc-3ovfKzm"
      },
      "source": [
        "#### 9.  Create a 3x3 matrix with values ranging from 0 to 8 (★☆☆) \n",
        "(**hint**: reshape)"
      ]
    },
    {
      "cell_type": "code",
      "execution_count": 9,
      "metadata": {
        "id": "dHMoD9GQfKzo",
        "colab": {
          "base_uri": "https://localhost:8080/"
        },
        "outputId": "5a6bf603-8271-4b35-97a6-1293752a2e28"
      },
      "outputs": [
        {
          "output_type": "stream",
          "name": "stdout",
          "text": [
            "[[1 2 3]\n",
            " [4 5 6]\n",
            " [7 8 9]]\n"
          ]
        }
      ],
      "source": [
        "matrix=np.arange(1,10).reshape(3,3)\n",
        "print(matrix)"
      ]
    },
    {
      "cell_type": "markdown",
      "metadata": {
        "id": "pnzVRn8LfKzq"
      },
      "source": [
        "#### 10. Find indices of non-zero elements from \\[1,2,0,0,4,0\\] (★☆☆) \n",
        "(**hint**: np.nonzero)"
      ]
    },
    {
      "cell_type": "code",
      "execution_count": 10,
      "metadata": {
        "id": "XmMVciN0fKzr",
        "colab": {
          "base_uri": "https://localhost:8080/"
        },
        "outputId": "bf10c099-652b-401d-b4e2-bf9f53b54afd"
      },
      "outputs": [
        {
          "output_type": "stream",
          "name": "stdout",
          "text": [
            "(array([0, 1, 4]),)\n"
          ]
        }
      ],
      "source": [
        "nonz=np.nonzero([1,2,0,0,4,0])\n",
        "print(nonz)"
      ]
    },
    {
      "cell_type": "markdown",
      "metadata": {
        "id": "jQDkHq92fKzs"
      },
      "source": [
        "#### 11. Create a 3x3 identity matrix (★☆☆) \n",
        "(**hint**: np.eye)"
      ]
    },
    {
      "cell_type": "code",
      "execution_count": 11,
      "metadata": {
        "id": "1kFVhJVofKzu",
        "colab": {
          "base_uri": "https://localhost:8080/"
        },
        "outputId": "2cb7039b-1df9-46b4-ab04-a2e7d945930f"
      },
      "outputs": [
        {
          "output_type": "stream",
          "name": "stdout",
          "text": [
            "[[1. 0. 0.]\n",
            " [0. 1. 0.]\n",
            " [0. 0. 1.]]\n"
          ]
        }
      ],
      "source": [
        "imatrix=np.eye(3)\n",
        "print(imatrix)"
      ]
    },
    {
      "cell_type": "markdown",
      "metadata": {
        "id": "IBc4XUvgfKzv"
      },
      "source": [
        "#### 12. Create a 3x3x3 array with random values (★☆☆) \n",
        "(**hint**: np.random.random)"
      ]
    },
    {
      "cell_type": "code",
      "execution_count": 12,
      "metadata": {
        "collapsed": true,
        "id": "UMI0ZNxmfKzv",
        "colab": {
          "base_uri": "https://localhost:8080/"
        },
        "outputId": "81817ca8-a110-42cc-8033-0c999a7d56a3"
      },
      "outputs": [
        {
          "output_type": "stream",
          "name": "stdout",
          "text": [
            "[[[0.51612729 0.12904542 0.38540394]\n",
            "  [0.22645839 0.88706184 0.31192097]\n",
            "  [0.60516508 0.34393802 0.46058193]]\n",
            "\n",
            " [[0.21956781 0.04455748 0.30922685]\n",
            "  [0.24860194 0.5044508  0.60829028]\n",
            "  [0.85022546 0.98316404 0.45534158]]\n",
            "\n",
            " [[0.18947697 0.29317657 0.25632048]\n",
            "  [0.75846618 0.25244936 0.81875239]\n",
            "  [0.26353494 0.07376033 0.02201582]]]\n"
          ]
        }
      ],
      "source": [
        "rand_matrix=np.random.random((3,3,3))\n",
        "print(rand_matrix)"
      ]
    },
    {
      "cell_type": "markdown",
      "metadata": {
        "id": "Kr8-wpMTfKzw"
      },
      "source": [
        "#### 13. Create a 10x10 array with random values and find the minimum and maximum values (★☆☆) \n",
        "(**hint**: min, max)"
      ]
    },
    {
      "cell_type": "code",
      "execution_count": 13,
      "metadata": {
        "id": "PfnytS7pfKzx",
        "colab": {
          "base_uri": "https://localhost:8080/"
        },
        "outputId": "8c20a435-4a76-4cb6-9a75-6f8d0a171bfc"
      },
      "outputs": [
        {
          "output_type": "stream",
          "name": "stdout",
          "text": [
            "minimum is: 0.018145913049075868 \n",
            "maximum is: 0.9903884882143437\n"
          ]
        }
      ],
      "source": [
        "rmatrix=np.random.random((10,10))\n",
        "mini=rmatrix.min()\n",
        "maxi=rmatrix.max()\n",
        "print(\"minimum is:\",mini,\"\\nmaximum is:\",maxi)"
      ]
    },
    {
      "cell_type": "markdown",
      "metadata": {
        "id": "R2X1P1awfKzy"
      },
      "source": [
        "#### 14. Create a random vector of size 30 and find the mean value (★☆☆) \n",
        "(**hint**: mean)"
      ]
    },
    {
      "cell_type": "code",
      "execution_count": 14,
      "metadata": {
        "id": "wJDa2AaefKzz",
        "colab": {
          "base_uri": "https://localhost:8080/"
        },
        "outputId": "bd5c9cb8-dd3d-4887-89c9-5c0e2e812acc"
      },
      "outputs": [
        {
          "output_type": "stream",
          "name": "stdout",
          "text": [
            "mean is: 0.4473171188959784\n"
          ]
        }
      ],
      "source": [
        "aray=np.random.random(30)\n",
        "aray_mean=aray.mean()\n",
        "print(\"mean is:\",aray_mean)"
      ]
    },
    {
      "cell_type": "markdown",
      "metadata": {
        "id": "8qwNpu6kfKz0"
      },
      "source": [
        "#### 15. Create a 2d array with 1 on the border and 0 inside (★☆☆) \n",
        "(**hint**: array\\[1:-1, 1:-1\\])"
      ]
    },
    {
      "cell_type": "code",
      "execution_count": 15,
      "metadata": {
        "id": "cW82MKWdfKz1",
        "colab": {
          "base_uri": "https://localhost:8080/"
        },
        "outputId": "e78c57de-fe78-4173-b3b3-5d5a24534152"
      },
      "outputs": [
        {
          "output_type": "stream",
          "name": "stdout",
          "text": [
            "[[1. 1. 1. 1. 1.]\n",
            " [1. 0. 0. 0. 1.]\n",
            " [1. 0. 0. 0. 1.]\n",
            " [1. 0. 0. 0. 1.]\n",
            " [1. 1. 1. 1. 1.]]\n"
          ]
        }
      ],
      "source": [
        "ones=np.ones((5,5))\n",
        "ones[1:-1,1:-1]=0\n",
        "print(ones)"
      ]
    },
    {
      "cell_type": "markdown",
      "metadata": {
        "id": "MJJOjS3sfKz2"
      },
      "source": [
        "#### 16. How to add a border (filled with 0's) around an existing array? (★☆☆) \n",
        "(**hint**: np.pad)"
      ]
    },
    {
      "cell_type": "code",
      "execution_count": 16,
      "metadata": {
        "id": "cNRvj7UBfKz3",
        "colab": {
          "base_uri": "https://localhost:8080/"
        },
        "outputId": "6d1125ea-8abf-495e-aa3a-5f817b64d5ce"
      },
      "outputs": [
        {
          "output_type": "stream",
          "name": "stdout",
          "text": [
            "[[0. 0. 0. 0. 0. 0. 0.]\n",
            " [0. 1. 1. 1. 1. 1. 0.]\n",
            " [0. 1. 1. 1. 1. 1. 0.]\n",
            " [0. 1. 1. 1. 1. 1. 0.]\n",
            " [0. 1. 1. 1. 1. 1. 0.]\n",
            " [0. 1. 1. 1. 1. 1. 0.]\n",
            " [0. 0. 0. 0. 0. 0. 0.]]\n"
          ]
        }
      ],
      "source": [
        "aray = np.ones((5,5))\n",
        "aray = np.pad(aray, pad_width=1, mode='constant', constant_values=0)\n",
        "print(aray)"
      ]
    },
    {
      "cell_type": "markdown",
      "metadata": {
        "id": "EjTte5ebfKz3"
      },
      "source": [
        "#### 17. What is the result of the following expression? (★☆☆) \n",
        "(**hint**: NaN = not a number, inf = infinity)"
      ]
    },
    {
      "cell_type": "markdown",
      "metadata": {
        "id": "h7AfuuLBfKz5"
      },
      "source": [
        "```python\n",
        "0 * np.nan\n",
        "np.nan == np.nan\n",
        "np.inf > np.nan\n",
        "np.nan - np.nan\n",
        "0.3 == 3 * 0.1\n",
        "```"
      ]
    },
    {
      "cell_type": "code",
      "execution_count": 17,
      "metadata": {
        "id": "_NAL83LPfKz6",
        "colab": {
          "base_uri": "https://localhost:8080/"
        },
        "outputId": "a7bc31a9-6a8a-4bc7-febd-d68e475686ff"
      },
      "outputs": [
        {
          "output_type": "stream",
          "name": "stdout",
          "text": [
            "nan\n",
            "False\n",
            "False\n",
            "nan\n",
            "False\n"
          ]
        }
      ],
      "source": [
        "print(0 * np.nan)\n",
        "print(np.nan == np.nan)\n",
        "print(np.inf > np.nan)\n",
        "print(np.nan - np.nan)\n",
        "print(0.3 == 3 * 0.1)"
      ]
    },
    {
      "cell_type": "markdown",
      "metadata": {
        "id": "3E6at7lnfKz7"
      },
      "source": [
        "#### 18. Create a 5x5 matrix with values 1,2,3,4 just below the diagonal (★☆☆) \n",
        "(**hint**: np.diag)"
      ]
    },
    {
      "cell_type": "code",
      "execution_count": 18,
      "metadata": {
        "id": "Wfwen-XQfKz8",
        "colab": {
          "base_uri": "https://localhost:8080/"
        },
        "outputId": "6b8cb591-2ea9-48a7-849f-d29c4b9e3ad6"
      },
      "outputs": [
        {
          "output_type": "stream",
          "name": "stdout",
          "text": [
            "[[0 0 0 0 0]\n",
            " [1 0 0 0 0]\n",
            " [0 2 0 0 0]\n",
            " [0 0 3 0 0]\n",
            " [0 0 0 4 0]]\n"
          ]
        }
      ],
      "source": [
        "matrix=np.diag(np.arange(1,5),k=-1)\n",
        "print(matrix)"
      ]
    },
    {
      "cell_type": "markdown",
      "metadata": {
        "id": "FyvDGSDcfKz9"
      },
      "source": [
        "#### 19. Create a 8x8 matrix and fill it with a checkerboard pattern (★☆☆) \n",
        "(**hint**: array\\[::2\\])"
      ]
    },
    {
      "cell_type": "code",
      "execution_count": 19,
      "metadata": {
        "id": "qziElSUIfKz_",
        "colab": {
          "base_uri": "https://localhost:8080/"
        },
        "outputId": "26642003-a32c-4cff-d1ee-b1a1f66a11fa"
      },
      "outputs": [
        {
          "output_type": "stream",
          "name": "stdout",
          "text": [
            "[[0 1 0 1 0 1 0 1]\n",
            " [1 0 1 0 1 0 1 0]\n",
            " [0 1 0 1 0 1 0 1]\n",
            " [1 0 1 0 1 0 1 0]\n",
            " [0 1 0 1 0 1 0 1]\n",
            " [1 0 1 0 1 0 1 0]\n",
            " [0 1 0 1 0 1 0 1]\n",
            " [1 0 1 0 1 0 1 0]]\n"
          ]
        }
      ],
      "source": [
        "checker=np.zeros((8,8),dtype=int)\n",
        "checker[1::2,::2]=1\n",
        "checker[::2,1::2]=1\n",
        "print(checker)"
      ]
    },
    {
      "cell_type": "markdown",
      "metadata": {
        "id": "w1MGj0hafKz_"
      },
      "source": [
        "#### 20. Consider a (6,7,8) shape array, what is the index (x,y,z) of the 100th element? \n",
        "(**hint**: np.unravel_index)"
      ]
    },
    {
      "cell_type": "code",
      "execution_count": 20,
      "metadata": {
        "id": "suLTCMnNfK0A",
        "colab": {
          "base_uri": "https://localhost:8080/"
        },
        "outputId": "48d6c82d-da3e-4175-cf80-7f09f361464f"
      },
      "outputs": [
        {
          "output_type": "stream",
          "name": "stdout",
          "text": [
            "(1, 5, 4)\n"
          ]
        }
      ],
      "source": [
        "#n=np.random.random((6,7,8))\n",
        "#print(n)\n",
        "print(np.unravel_index(100,(6,7,8)))"
      ]
    },
    {
      "cell_type": "markdown",
      "metadata": {
        "id": "JbD2dWfufK0B"
      },
      "source": [
        "#### 21. Create a checkerboard 8x8 matrix using the tile function (★☆☆) \n",
        "(**hint**: np.tile)"
      ]
    },
    {
      "cell_type": "code",
      "execution_count": 21,
      "metadata": {
        "id": "YpM82ySNfK0D",
        "colab": {
          "base_uri": "https://localhost:8080/"
        },
        "outputId": "e35ba187-7f5a-4eb5-d091-46a758671b75"
      },
      "outputs": [
        {
          "output_type": "stream",
          "name": "stdout",
          "text": [
            "[[0 1 0 1 0 1 0 1]\n",
            " [1 0 1 0 1 0 1 0]\n",
            " [0 1 0 1 0 1 0 1]\n",
            " [1 0 1 0 1 0 1 0]\n",
            " [0 1 0 1 0 1 0 1]\n",
            " [1 0 1 0 1 0 1 0]\n",
            " [0 1 0 1 0 1 0 1]\n",
            " [1 0 1 0 1 0 1 0]]\n"
          ]
        }
      ],
      "source": [
        "checker=np.tile(np.array([[0,1],[1,0]]),(4,4))\n",
        "print(checker)"
      ]
    },
    {
      "cell_type": "markdown",
      "metadata": {
        "id": "j-XFJ2XAfK0D"
      },
      "source": [
        "#### 22. Normalize a 5x5 random matrix (★☆☆) \n",
        "(**hint**: (x - min) / (max - min))"
      ]
    },
    {
      "cell_type": "code",
      "execution_count": 22,
      "metadata": {
        "id": "nXZbwywyfK0E",
        "colab": {
          "base_uri": "https://localhost:8080/"
        },
        "outputId": "56803cb7-cf0d-4728-f7c5-03a55d79de74"
      },
      "outputs": [
        {
          "output_type": "stream",
          "name": "stdout",
          "text": [
            "[[0.15737235 0.8808668  0.19229828 0.         0.83357293]\n",
            " [0.79319955 0.96903405 0.82284997 0.94068588 0.22086625]\n",
            " [1.         0.43019427 0.08853602 0.59963971 0.8479309 ]\n",
            " [0.14732702 0.63630956 0.58904917 0.19162779 0.25111592]\n",
            " [0.86898513 0.17143477 0.27861128 0.74582186 0.93607235]]\n"
          ]
        }
      ],
      "source": [
        "x=np.random.random((5,5))\n",
        "maxi,mini=x.max(),x.min()\n",
        "x=(x-mini)/(maxi-mini)\n",
        "print(x)"
      ]
    },
    {
      "cell_type": "markdown",
      "metadata": {
        "id": "pcm4jlHmfK0G"
      },
      "source": [
        "#### 23. Create a custom dtype that describes a color as four unsigned bytes (RGBA) (★☆☆) \n",
        "(**hint**: np.dtype)"
      ]
    },
    {
      "cell_type": "code",
      "execution_count": 23,
      "metadata": {
        "collapsed": true,
        "id": "5kC_56VofK0H",
        "colab": {
          "base_uri": "https://localhost:8080/"
        },
        "outputId": "0df59bf4-84ac-4015-9291-3fe6ab684064"
      },
      "outputs": [
        {
          "output_type": "stream",
          "name": "stderr",
          "text": [
            "/usr/local/lib/python3.7/dist-packages/ipykernel_launcher.py:4: FutureWarning: Passing (type, 1) or '1type' as a synonym of type is deprecated; in a future version of numpy, it will be understood as (type, (1,)) / '(1,)type'.\n",
            "  after removing the cwd from sys.path.\n"
          ]
        }
      ],
      "source": [
        "new_color=np.dtype([(\"r\",np.ubyte,1),\n",
        "                    (\"g\",np.ubyte,1),\n",
        "                    (\"b\",np.ubyte,1),\n",
        "                    (\"a\",np.ubyte,1)])"
      ]
    },
    {
      "cell_type": "markdown",
      "metadata": {
        "id": "xev_OkWqfK0I"
      },
      "source": [
        "#### 24. Multiply a 5x3 matrix by a 3x2 matrix (real matrix product) (★☆☆) \n",
        "(**hint**: np.dot | @)"
      ]
    },
    {
      "cell_type": "code",
      "execution_count": 24,
      "metadata": {
        "id": "-MvYYHaffK0J",
        "colab": {
          "base_uri": "https://localhost:8080/"
        },
        "outputId": "2af6635f-742a-4a33-82eb-b303fa1347b1"
      },
      "outputs": [
        {
          "output_type": "stream",
          "name": "stdout",
          "text": [
            "[[3. 3.]\n",
            " [3. 3.]\n",
            " [3. 3.]\n",
            " [3. 3.]\n",
            " [3. 3.]]\n"
          ]
        }
      ],
      "source": [
        "x=np.dot(np.ones((5,3)),np.ones((3,2)))\n",
        "print(x)"
      ]
    },
    {
      "cell_type": "markdown",
      "metadata": {
        "id": "qxWaWVl0fK0K"
      },
      "source": [
        "#### 25. Given a 1D array, negate all elements which are between 3 and 8, in place. (★☆☆) \n",
        "(**hint**: >, <=)"
      ]
    },
    {
      "cell_type": "code",
      "execution_count": 25,
      "metadata": {
        "id": "TBktTCddfK0L",
        "colab": {
          "base_uri": "https://localhost:8080/"
        },
        "outputId": "9459b57c-fe3e-4a6f-c0c5-e87a3c0774c1"
      },
      "outputs": [
        {
          "output_type": "stream",
          "name": "stdout",
          "text": [
            "[ 0  1  2  3 -4 -5 -6 -7 -8  9 10]\n"
          ]
        }
      ],
      "source": [
        "x=np.arange(11)\n",
        "x[(3<x)&(x<=8)] *= -1\n",
        "print(x)"
      ]
    },
    {
      "cell_type": "markdown",
      "metadata": {
        "id": "gLA4fS9zfK0M"
      },
      "source": [
        "#### 26. What is the output of the following script? (★☆☆) \n",
        "(**hint**: np.sum)"
      ]
    },
    {
      "cell_type": "markdown",
      "metadata": {
        "id": "wPqcY1U-fK0M"
      },
      "source": [
        "```python\n",
        "# Author: Jake VanderPlas\n",
        "\n",
        "print(sum(range(5),-1))\n",
        "from numpy import *\n",
        "print(sum(range(5),-1))\n",
        "```"
      ]
    },
    {
      "cell_type": "code",
      "execution_count": 26,
      "metadata": {
        "id": "7ASqyy23fK0N",
        "colab": {
          "base_uri": "https://localhost:8080/"
        },
        "outputId": "2222dee1-add7-4098-c33d-357ef5d273b9"
      },
      "outputs": [
        {
          "output_type": "stream",
          "name": "stdout",
          "text": [
            "10\n"
          ]
        }
      ],
      "source": [
        "from numpy import *\n",
        "print(sum(range(5),-1))\n"
      ]
    },
    {
      "cell_type": "markdown",
      "metadata": {
        "id": "jjN-e1XTfK0P"
      },
      "source": [
        "#### 27. Consider an integer vector Z, which of these expressions are legal? (★☆☆)"
      ]
    },
    {
      "cell_type": "markdown",
      "metadata": {
        "id": "pAGjjfZGfK0P"
      },
      "source": [
        "```python\n",
        "Z**Z\n",
        "2 << Z >> 2\n",
        "Z <- Z\n",
        "1j*Z\n",
        "Z/1/1\n",
        "Z<Z>Z\n",
        "```"
      ]
    },
    {
      "cell_type": "code",
      "execution_count": 27,
      "metadata": {
        "id": "SKORIq4-fK0Q",
        "colab": {
          "base_uri": "https://localhost:8080/"
        },
        "outputId": "ceb1789c-04c2-43ba-ace6-42b580bdaa83"
      },
      "outputs": [
        {
          "output_type": "execute_result",
          "data": {
            "text/plain": [
              "array([1., 1., 1., 1.])"
            ]
          },
          "metadata": {},
          "execution_count": 27
        }
      ],
      "source": [
        "z=np.ones(4)\n",
        "z**z\n",
        "z <- z\n",
        "1j*z\n",
        "z/1/1\n"
      ]
    },
    {
      "cell_type": "markdown",
      "metadata": {
        "id": "2Hew6mfVfK0R"
      },
      "source": [
        "#### 28. What are the result of the following expressions?"
      ]
    },
    {
      "cell_type": "markdown",
      "metadata": {
        "id": "QLjw3dJFfK0S"
      },
      "source": [
        "```python\n",
        "np.array(0) / np.array(0)\n",
        "np.array(0) // np.array(0)\n",
        "np.array([np.nan]).astype(int).astype(float)\n",
        "```"
      ]
    },
    {
      "cell_type": "code",
      "execution_count": 28,
      "metadata": {
        "id": "LrXhx0vEfK0T",
        "colab": {
          "base_uri": "https://localhost:8080/"
        },
        "outputId": "2ef6eb71-59ac-46fe-99af-501bcb79260c"
      },
      "outputs": [
        {
          "output_type": "stream",
          "name": "stdout",
          "text": [
            "nan\n",
            "0\n",
            "[-9.22337204e+18]\n"
          ]
        },
        {
          "output_type": "stream",
          "name": "stderr",
          "text": [
            "/usr/local/lib/python3.7/dist-packages/ipykernel_launcher.py:1: RuntimeWarning: invalid value encountered in true_divide\n",
            "  \"\"\"Entry point for launching an IPython kernel.\n",
            "/usr/local/lib/python3.7/dist-packages/ipykernel_launcher.py:2: RuntimeWarning: divide by zero encountered in floor_divide\n",
            "  \n"
          ]
        }
      ],
      "source": [
        "print(np.array(0) / np.array(0))\n",
        "print(np.array(0) // np.array(0))\n",
        "print(np.array([np.nan]).astype(int).astype(float))"
      ]
    },
    {
      "cell_type": "markdown",
      "metadata": {
        "id": "paaeQklYfK0T"
      },
      "source": [
        "#### 29. How to round away from zero a float array ? (★☆☆) \n",
        "(**hint**: np.uniform, np.copysign, np.ceil, np.abs)"
      ]
    },
    {
      "cell_type": "code",
      "execution_count": 29,
      "metadata": {
        "id": "ptSoLdi-fK0U",
        "colab": {
          "base_uri": "https://localhost:8080/"
        },
        "outputId": "48e75307-222f-4e7b-afa0-d9c6c4ce127a"
      },
      "outputs": [
        {
          "output_type": "stream",
          "name": "stdout",
          "text": [
            "[-3.  8. 10. -2.  2. -1.  5.  2.  4.  3.]\n"
          ]
        }
      ],
      "source": [
        "aray = np.random.uniform(-10,+10,10)\n",
        "print (np.copysign(np.ceil(np.abs(aray)), aray))"
      ]
    },
    {
      "cell_type": "markdown",
      "metadata": {
        "id": "pVtJSXlIfK0V"
      },
      "source": [
        "#### 30. How to find common values between two arrays? (★☆☆) \n",
        "(**hint**: np.intersect1d)"
      ]
    },
    {
      "cell_type": "code",
      "execution_count": 30,
      "metadata": {
        "id": "N70ML9vQfK0W",
        "colab": {
          "base_uri": "https://localhost:8080/"
        },
        "outputId": "4ec51b17-2172-4124-d297-63c87dcfe2a4"
      },
      "outputs": [
        {
          "output_type": "stream",
          "name": "stdout",
          "text": [
            "[0 2 3 7]\n"
          ]
        }
      ],
      "source": [
        "aray1 = np.random.randint(0,10,10)\n",
        "aray2 = np.random.randint(0,10,10)\n",
        "print(np.intersect1d(aray1,aray2))"
      ]
    },
    {
      "cell_type": "markdown",
      "metadata": {
        "id": "F2f23q1jfK0X"
      },
      "source": [
        "#### 31. How to ignore all numpy warnings (not recommended)? (★☆☆) \n",
        "(**hint**: np.seterr, np.errstate)"
      ]
    },
    {
      "cell_type": "code",
      "execution_count": 31,
      "metadata": {
        "id": "L0GM9fH4fK0X"
      },
      "outputs": [],
      "source": [
        "with np.errstate(divide='ignore'):\n",
        "    aray = np.ones(1) / 0"
      ]
    },
    {
      "cell_type": "markdown",
      "metadata": {
        "id": "c3I8ZgmgfK0Y"
      },
      "source": [
        "#### 32. Is the following expressions true? (★☆☆) \n",
        "(**hint**: imaginary number)"
      ]
    },
    {
      "cell_type": "markdown",
      "metadata": {
        "id": "MDki174jfK0Z"
      },
      "source": [
        "```python\n",
        "np.sqrt(-1) == np.emath.sqrt(-1)\n",
        "```"
      ]
    },
    {
      "cell_type": "code",
      "execution_count": 32,
      "metadata": {
        "id": "AOiBLQxcfK0a",
        "colab": {
          "base_uri": "https://localhost:8080/"
        },
        "outputId": "3f41d066-5a30-47fe-a3b9-f01f47d3c9d0"
      },
      "outputs": [
        {
          "output_type": "stream",
          "name": "stderr",
          "text": [
            "/usr/local/lib/python3.7/dist-packages/ipykernel_launcher.py:2: RuntimeWarning: invalid value encountered in sqrt\n",
            "  \n"
          ]
        },
        {
          "output_type": "execute_result",
          "data": {
            "text/plain": [
              "False"
            ]
          },
          "metadata": {},
          "execution_count": 32
        }
      ],
      "source": [
        "#False\n",
        "np.sqrt(-1) == np.emath.sqrt(-1)"
      ]
    },
    {
      "cell_type": "markdown",
      "metadata": {
        "id": "xYloSEt6fK0a"
      },
      "source": [
        "#### 33. How to get the dates of yesterday, today and tomorrow? (★☆☆) \n",
        "(**hint**: np.datetime64, np.timedelta64)"
      ]
    },
    {
      "cell_type": "code",
      "execution_count": 33,
      "metadata": {
        "collapsed": true,
        "id": "OUAUXJc5fK0c",
        "colab": {
          "base_uri": "https://localhost:8080/"
        },
        "outputId": "4c1e81d2-8406-4693-a3ea-acf84e98f72a"
      },
      "outputs": [
        {
          "output_type": "stream",
          "name": "stdout",
          "text": [
            "\n",
            " 2022-02-16 \n",
            " 2022-02-17 \n",
            " 2022-02-18\n"
          ]
        }
      ],
      "source": [
        "yesterday = np.datetime64('today', 'D') - np.timedelta64(1, 'D')\n",
        "today     = np.datetime64('today', 'D')\n",
        "tomorrow  = np.datetime64('today', 'D') + np.timedelta64(1, 'D')\n",
        "print('\\n',yesterday,\"\\n\",today,'\\n',tomorrow)"
      ]
    },
    {
      "cell_type": "markdown",
      "metadata": {
        "id": "EGVKntScfK0d"
      },
      "source": [
        "#### 34. How to get all the dates corresponding to the month of July 2016? (★★☆) \n",
        "(**hint**: np.arange(dtype=datetime64\\['D'\\]))"
      ]
    },
    {
      "cell_type": "code",
      "execution_count": 34,
      "metadata": {
        "id": "LIoA36CufK0d",
        "colab": {
          "base_uri": "https://localhost:8080/"
        },
        "outputId": "1f9932cc-b7d2-4b6b-d8dc-13aee3d92645"
      },
      "outputs": [
        {
          "output_type": "stream",
          "name": "stdout",
          "text": [
            "['2016-07-01' '2016-07-02' '2016-07-03' '2016-07-04' '2016-07-05'\n",
            " '2016-07-06' '2016-07-07' '2016-07-08' '2016-07-09' '2016-07-10'\n",
            " '2016-07-11' '2016-07-12' '2016-07-13' '2016-07-14' '2016-07-15'\n",
            " '2016-07-16' '2016-07-17' '2016-07-18' '2016-07-19' '2016-07-20'\n",
            " '2016-07-21' '2016-07-22' '2016-07-23' '2016-07-24' '2016-07-25'\n",
            " '2016-07-26' '2016-07-27' '2016-07-28' '2016-07-29' '2016-07-30'\n",
            " '2016-07-31']\n"
          ]
        }
      ],
      "source": [
        "dates = np.arange('2016-07', '2016-08', dtype='datetime64[D]')\n",
        "print(dates)"
      ]
    },
    {
      "cell_type": "markdown",
      "metadata": {
        "id": "IXHn4UA-fK0e"
      },
      "source": [
        "#### 35. How to compute ((A+B)\\*(-A/2)) in place (without copy)? (★★☆) \n",
        "(**hint**: np.add(out=), np.negative(out=), np.multiply(out=), np.divide(out=))"
      ]
    },
    {
      "cell_type": "code",
      "execution_count": 35,
      "metadata": {
        "id": "DdFh2fhufK0f",
        "colab": {
          "base_uri": "https://localhost:8080/"
        },
        "outputId": "b2acfb09-944d-40a1-cbc6-1453a5ecb36f"
      },
      "outputs": [
        {
          "output_type": "execute_result",
          "data": {
            "text/plain": [
              "array([-1.5, -1.5, -1.5])"
            ]
          },
          "metadata": {},
          "execution_count": 35
        }
      ],
      "source": [
        "A = np.ones(3)*1\n",
        "B = np.ones(3)*2\n",
        "C = np.ones(3)*3\n",
        "np.add(A,B,out=B)\n",
        "np.divide(A,2,out=A)\n",
        "np.negative(A,out=A)\n",
        "np.multiply(A,B,out=A)"
      ]
    },
    {
      "cell_type": "markdown",
      "metadata": {
        "id": "Bhao0LoefK0g"
      },
      "source": [
        "#### 36. Extract the integer part of a random array using 5 different methods (★★☆) \n",
        "(**hint**: %, np.floor, np.ceil, astype, np.trunc)"
      ]
    },
    {
      "cell_type": "code",
      "execution_count": 36,
      "metadata": {
        "id": "DXQde4CQfK0g",
        "colab": {
          "base_uri": "https://localhost:8080/"
        },
        "outputId": "a1b05f11-204f-49d0-bc3f-8c2ee26deb25"
      },
      "outputs": [
        {
          "output_type": "stream",
          "name": "stdout",
          "text": [
            "[5. 6. 9. 5. 6. 3. 8. 0. 5. 1.]\n",
            "[5. 6. 9. 5. 6. 3. 8. 0. 5. 1.]\n",
            "[5. 6. 9. 5. 6. 3. 8. 0. 5. 1.]\n",
            "[5 6 9 5 6 3 8 0 5 1]\n",
            "[5. 6. 9. 5. 6. 3. 8. 0. 5. 1.]\n"
          ]
        }
      ],
      "source": [
        "x = np.random.uniform(0,10,10)\n",
        "\n",
        "print (x - x%1)\n",
        "print (np.floor(x))\n",
        "print (np.ceil(x)-1)\n",
        "print (x.astype(int))\n",
        "print (np.trunc(x))"
      ]
    },
    {
      "cell_type": "markdown",
      "metadata": {
        "id": "jd5RuF98fK0h"
      },
      "source": [
        "#### 37. Create a 5x5 matrix with row values ranging from 0 to 4 (★★☆) \n",
        "(**hint**: np.arange)"
      ]
    },
    {
      "cell_type": "code",
      "execution_count": 37,
      "metadata": {
        "id": "FBWWEXzSfK0j",
        "colab": {
          "base_uri": "https://localhost:8080/"
        },
        "outputId": "c29ddb29-0be1-497f-b6e7-e9b7754a7f41"
      },
      "outputs": [
        {
          "output_type": "stream",
          "name": "stdout",
          "text": [
            "[[0. 1. 2. 3. 4.]\n",
            " [0. 1. 2. 3. 4.]\n",
            " [0. 1. 2. 3. 4.]\n",
            " [0. 1. 2. 3. 4.]\n",
            " [0. 1. 2. 3. 4.]]\n"
          ]
        }
      ],
      "source": [
        "matrix=np.zeros((5,5))\n",
        "matrix+=np.arange(0,5)\n",
        "print(matrix)"
      ]
    },
    {
      "cell_type": "markdown",
      "metadata": {
        "id": "L0SLjuVnfK0j"
      },
      "source": [
        "#### 38. Consider a generator function that generates 10 integers and use it to build an array (★☆☆) \n",
        "(**hint**: np.fromiter)"
      ]
    },
    {
      "cell_type": "code",
      "execution_count": 38,
      "metadata": {
        "id": "ZLCJjlgIfK0n",
        "colab": {
          "base_uri": "https://localhost:8080/"
        },
        "outputId": "ebf0f135-b990-43c0-ca91-dfe17765bc2f"
      },
      "outputs": [
        {
          "output_type": "stream",
          "name": "stdout",
          "text": [
            "[0. 1. 2. 3. 4. 5. 6. 7. 8. 9.]\n"
          ]
        }
      ],
      "source": [
        "def generate():\n",
        "    for x in range(10):\n",
        "        yield x\n",
        "aray = np.fromiter(generate(),dtype=float,count=-1)\n",
        "print(aray)"
      ]
    },
    {
      "cell_type": "markdown",
      "metadata": {
        "id": "kHigjTP2fK0o"
      },
      "source": [
        "#### 39. Create a vector of size 10 with values ranging from 0 to 1, both excluded (★★☆) \n",
        "(**hint**: np.linspace)"
      ]
    },
    {
      "cell_type": "code",
      "execution_count": 39,
      "metadata": {
        "id": "UmShAZFNfK0p",
        "colab": {
          "base_uri": "https://localhost:8080/"
        },
        "outputId": "9853937a-e5b3-4438-ba97-a752076d99d7"
      },
      "outputs": [
        {
          "output_type": "stream",
          "name": "stdout",
          "text": [
            "[0.09090909 0.18181818 0.27272727 0.36363636 0.45454545 0.54545455\n",
            " 0.63636364 0.72727273 0.81818182 0.90909091]\n"
          ]
        }
      ],
      "source": [
        "x = np.linspace(0,1,12,endpoint=True)[1:-1]\n",
        "print(x)"
      ]
    },
    {
      "cell_type": "markdown",
      "metadata": {
        "id": "6hnd7fGlfK0q"
      },
      "source": [
        "#### 40. Create a random vector of size 10 and sort it (★★☆) \n",
        "(**hint**: sort)"
      ]
    },
    {
      "cell_type": "code",
      "execution_count": 40,
      "metadata": {
        "id": "qW8LU5T-fK0r",
        "colab": {
          "base_uri": "https://localhost:8080/"
        },
        "outputId": "2dfcdb98-5913-45e6-9dca-fecd9cd52e51"
      },
      "outputs": [
        {
          "output_type": "stream",
          "name": "stdout",
          "text": [
            "[0.14333535 0.18105042 0.18815257 0.32663852 0.53228528 0.6427909\n",
            " 0.79772847 0.88717602 0.91501451 0.93655245]\n"
          ]
        }
      ],
      "source": [
        "aray=np.random.random(10)\n",
        "aray.sort()\n",
        "print(aray)"
      ]
    },
    {
      "cell_type": "markdown",
      "metadata": {
        "id": "mdCSkwrYfK0r"
      },
      "source": [
        "#### 41. How to sum a small array faster than np.sum? (★★☆) \n",
        "(**hint**: np.add.reduce)"
      ]
    },
    {
      "cell_type": "code",
      "execution_count": 41,
      "metadata": {
        "id": "CKLMP4WPfK0t",
        "colab": {
          "base_uri": "https://localhost:8080/"
        },
        "outputId": "7daa1e67-c856-449f-8d31-b2bf883df9eb"
      },
      "outputs": [
        {
          "output_type": "execute_result",
          "data": {
            "text/plain": [
              "45"
            ]
          },
          "metadata": {},
          "execution_count": 41
        }
      ],
      "source": [
        "x = np.arange(10)\n",
        "np.add.reduce(x)"
      ]
    },
    {
      "cell_type": "markdown",
      "metadata": {
        "id": "RzlJacSjfK0t"
      },
      "source": [
        "#### 42. Consider two random array A and B, check if they are equal (★★☆) \n",
        "(**hint**: np.allclose, np.array\\_equal)"
      ]
    },
    {
      "cell_type": "code",
      "execution_count": 42,
      "metadata": {
        "id": "hYtpE8o1fK0u",
        "colab": {
          "base_uri": "https://localhost:8080/"
        },
        "outputId": "23f634c8-5c0e-4775-89ad-b588e019ecf4"
      },
      "outputs": [
        {
          "output_type": "stream",
          "name": "stdout",
          "text": [
            "False\n",
            "False\n"
          ]
        }
      ],
      "source": [
        "A = np.random.randint(0,2,5)\n",
        "B = np.random.randint(0,2,5)\n",
        "\n",
        "equal = np.allclose(A,B)\n",
        "print(equal)\n",
        "\n",
        "equal = np.array_equal(A,B)\n",
        "print(equal)"
      ]
    },
    {
      "cell_type": "markdown",
      "metadata": {
        "id": "RFw5bdumfK0u"
      },
      "source": [
        "#### 43. Make an array immutable (read-only) (★★☆) \n",
        "(**hint**: flags.writeable)"
      ]
    },
    {
      "cell_type": "code",
      "execution_count": 43,
      "metadata": {
        "id": "OjZan2fNfK0w"
      },
      "outputs": [],
      "source": [
        "x = np.zeros(10)\n",
        "x.flags.writeable = False\n",
        "#x[0] = 1    will give the error: assignment destination is read-only"
      ]
    },
    {
      "cell_type": "markdown",
      "metadata": {
        "id": "NsUD5i1rfK0x"
      },
      "source": [
        "#### 44. Consider a random 10x2 matrix representing cartesian coordinates, convert them to polar coordinates (★★☆) \n",
        "(**hint**: np.sqrt, np.arctan2)"
      ]
    },
    {
      "cell_type": "code",
      "execution_count": 44,
      "metadata": {
        "id": "oFiTs8EtfK0x",
        "colab": {
          "base_uri": "https://localhost:8080/"
        },
        "outputId": "9b9f659e-b955-4be9-aa96-c2a089b3fdf0"
      },
      "outputs": [
        {
          "output_type": "stream",
          "name": "stdout",
          "text": [
            "[0.78589037 0.38460458 0.65556649 0.75526714 1.2297828  0.8683823\n",
            " 1.38798285 0.36412754 0.50324848 0.96608247]\n",
            "[1.13171002 0.648475   0.06281682 0.42626368 0.8651807  1.41642313\n",
            " 0.78964423 0.36703557 0.54323371 0.91307599]\n"
          ]
        }
      ],
      "source": [
        "aray = np.random.random((10,2))\n",
        "X,Y = aray[:,0], aray[:,1]\n",
        "R = np.sqrt(X**2+Y**2)\n",
        "T = np.arctan2(Y,X)\n",
        "print(R)\n",
        "print(T)"
      ]
    },
    {
      "cell_type": "markdown",
      "metadata": {
        "id": "Y_chwCBIfK0y"
      },
      "source": [
        "#### 45. Create random vector of size 10 and replace the maximum value by 0 (★★☆) \n",
        "(**hint**: argmax)"
      ]
    },
    {
      "cell_type": "code",
      "execution_count": 45,
      "metadata": {
        "id": "eUBtK1-4fK0z",
        "colab": {
          "base_uri": "https://localhost:8080/"
        },
        "outputId": "844c9711-54a8-455a-ee17-029085f465a9"
      },
      "outputs": [
        {
          "output_type": "stream",
          "name": "stdout",
          "text": [
            "[1.47193525e-01 0.00000000e+00 6.02618477e-01 4.35783077e-01\n",
            " 3.13314952e-01 2.48709688e-01 2.41031366e-01 3.74352158e-01\n",
            " 4.55007961e-01 2.23189218e-04]\n"
          ]
        }
      ],
      "source": [
        "x = np.random.random(10)\n",
        "x[x.argmax()] = 0\n",
        "print(x)"
      ]
    },
    {
      "cell_type": "markdown",
      "metadata": {
        "id": "3mgDgxlufK00"
      },
      "source": [
        "#### 46. Create a structured array with `x` and `y` coordinates covering the \\[0,1\\]x\\[0,1\\] area (★★☆) \n",
        "(**hint**: np.meshgrid)"
      ]
    },
    {
      "cell_type": "code",
      "execution_count": 46,
      "metadata": {
        "id": "zYNCnMsvfK00",
        "colab": {
          "base_uri": "https://localhost:8080/"
        },
        "outputId": "d878ac04-7b37-4334-c224-572cdca4a5c2"
      },
      "outputs": [
        {
          "output_type": "stream",
          "name": "stdout",
          "text": [
            "[[(0.  , 0.  ) (0.25, 0.  ) (0.5 , 0.  ) (0.75, 0.  ) (1.  , 0.  )]\n",
            " [(0.  , 0.25) (0.25, 0.25) (0.5 , 0.25) (0.75, 0.25) (1.  , 0.25)]\n",
            " [(0.  , 0.5 ) (0.25, 0.5 ) (0.5 , 0.5 ) (0.75, 0.5 ) (1.  , 0.5 )]\n",
            " [(0.  , 0.75) (0.25, 0.75) (0.5 , 0.75) (0.75, 0.75) (1.  , 0.75)]\n",
            " [(0.  , 1.  ) (0.25, 1.  ) (0.5 , 1.  ) (0.75, 1.  ) (1.  , 1.  )]]\n"
          ]
        }
      ],
      "source": [
        "Z = np.zeros((5,5), [('x',float),('y',float)])\n",
        "Z['x'], Z['y'] = np.meshgrid(np.linspace(0,1,5),\n",
        "                             np.linspace(0,1,5))\n",
        "print(Z)"
      ]
    },
    {
      "cell_type": "markdown",
      "metadata": {
        "id": "Nw_Tg0SEfK01"
      },
      "source": [
        "####  47. Given two arrays, X and Y, construct the Cauchy matrix C (Cij =1/(xi - yj)) \n",
        "(**hint**: np.subtract.outer)"
      ]
    },
    {
      "cell_type": "code",
      "execution_count": 47,
      "metadata": {
        "id": "iWBHWlJYfK03",
        "colab": {
          "base_uri": "https://localhost:8080/"
        },
        "outputId": "227fbfe9-5b2d-437d-d740-cfd41b638cc1"
      },
      "outputs": [
        {
          "output_type": "stream",
          "name": "stdout",
          "text": [
            "3638.163637117973\n"
          ]
        }
      ],
      "source": [
        "X = np.arange(8)\n",
        "Y = X + 0.5\n",
        "C = 1.0 / np.subtract.outer(X, Y)\n",
        "print(np.linalg.det(C))"
      ]
    },
    {
      "cell_type": "markdown",
      "metadata": {
        "id": "1FEF88z4fK03"
      },
      "source": [
        "#### 48. Print the minimum and maximum representable value for each numpy scalar type (★★☆) \n",
        "(**hint**: np.iinfo, np.finfo, eps)"
      ]
    },
    {
      "cell_type": "code",
      "execution_count": 48,
      "metadata": {
        "id": "VO531CBofK04",
        "colab": {
          "base_uri": "https://localhost:8080/"
        },
        "outputId": "3e30239b-8a4b-48d4-bbbb-f98a62a52f5a"
      },
      "outputs": [
        {
          "output_type": "stream",
          "name": "stdout",
          "text": [
            "-128\n",
            "127\n",
            "-2147483648\n",
            "2147483647\n",
            "-9223372036854775808\n",
            "9223372036854775807\n",
            "-3.4028235e+38\n",
            "3.4028235e+38\n",
            "1.1920929e-07\n",
            "-1.7976931348623157e+308\n",
            "1.7976931348623157e+308\n",
            "2.220446049250313e-16\n"
          ]
        }
      ],
      "source": [
        "for dtype in [np.int8, np.int32, np.int64]:\n",
        "   print(np.iinfo(dtype).min)\n",
        "   print(np.iinfo(dtype).max)\n",
        "for dtype in [np.float32, np.float64]:\n",
        "   print(np.finfo(dtype).min)\n",
        "   print(np.finfo(dtype).max)\n",
        "   print(np.finfo(dtype).eps)"
      ]
    },
    {
      "cell_type": "markdown",
      "metadata": {
        "id": "k25SmaGbfK05"
      },
      "source": [
        "#### 49. How to print all the values of an array? (★★☆) \n",
        "(**hint**: np.set\\_printoptions)"
      ]
    },
    {
      "cell_type": "code",
      "execution_count": 49,
      "metadata": {
        "id": "FGdFx0xhfK06",
        "colab": {
          "base_uri": "https://localhost:8080/"
        },
        "outputId": "dff686bd-beb8-417b-ca60-0db88b9cbf99"
      },
      "outputs": [
        {
          "output_type": "stream",
          "name": "stdout",
          "text": [
            "[[0. 0. 0. 0. 0.]\n",
            " [0. 0. 0. 0. 0.]\n",
            " [0. 0. 0. 0. 0.]\n",
            " [0. 0. 0. 0. 0.]\n",
            " [0. 0. 0. 0. 0.]]\n"
          ]
        }
      ],
      "source": [
        "np.set_printoptions(threshold=np.inf, linewidth=np.nan)\n",
        "x = np.zeros((5,5))\n",
        "print(x)"
      ]
    },
    {
      "cell_type": "markdown",
      "metadata": {
        "id": "FfOrEjDTfK07"
      },
      "source": [
        "#### 50. How to find the closest value (to a given scalar) in a vector? (★★☆) \n",
        "(**hint**: argmin)"
      ]
    },
    {
      "cell_type": "code",
      "execution_count": 50,
      "metadata": {
        "id": "1mcBcveJfK08",
        "colab": {
          "base_uri": "https://localhost:8080/"
        },
        "outputId": "dbbda23a-c88f-4687-e79f-adc10fdb34e4"
      },
      "outputs": [
        {
          "output_type": "stream",
          "name": "stdout",
          "text": [
            "60\n"
          ]
        }
      ],
      "source": [
        "Z = np.arange(100)\n",
        "v = np.random.uniform(0,100)\n",
        "index = (np.abs(Z-v)).argmin()\n",
        "print(Z[index])"
      ]
    },
    {
      "cell_type": "markdown",
      "metadata": {
        "id": "F2VEF3aHfK08"
      },
      "source": [
        "#### 51. Create a structured array representing a position (x,y) and a color (r,g,b) (★★☆) \n",
        "(**hint**: dtype)"
      ]
    },
    {
      "cell_type": "code",
      "execution_count": 51,
      "metadata": {
        "id": "QssS9_7rfK0-",
        "colab": {
          "base_uri": "https://localhost:8080/"
        },
        "outputId": "569f14b7-0c5c-4170-fd9d-d60b97af53fe"
      },
      "outputs": [
        {
          "output_type": "stream",
          "name": "stdout",
          "text": [
            "[((0., 0.), (0., 0., 0.)) ((0., 0.), (0., 0., 0.)) ((0., 0.), (0., 0., 0.)) ((0., 0.), (0., 0., 0.)) ((0., 0.), (0., 0., 0.)) ((0., 0.), (0., 0., 0.)) ((0., 0.), (0., 0., 0.)) ((0., 0.), (0., 0., 0.)) ((0., 0.), (0., 0., 0.)) ((0., 0.), (0., 0., 0.))]\n"
          ]
        },
        {
          "output_type": "stream",
          "name": "stderr",
          "text": [
            "/usr/local/lib/python3.7/dist-packages/ipykernel_launcher.py:5: FutureWarning: Passing (type, 1) or '1type' as a synonym of type is deprecated; in a future version of numpy, it will be understood as (type, (1,)) / '(1,)type'.\n",
            "  \"\"\"\n"
          ]
        }
      ],
      "source": [
        "aray = np.zeros(10, [ ('position', [ ('x', float, 1),\n",
        "                                  ('y', float, 1)]),\n",
        "                   ('color',    [ ('r', float, 1),\n",
        "                                  ('g', float, 1),\n",
        "                                  ('b', float, 1)])])\n",
        "print(aray)"
      ]
    },
    {
      "cell_type": "markdown",
      "metadata": {
        "id": "QC2JJ103fK0_"
      },
      "source": [
        "#### 52. Consider a random vector with shape (100,2) representing coordinates, find point by point distances (★★☆) \n",
        "(**hint**: np.atleast\\_2d, T, np.sqrt)"
      ]
    },
    {
      "cell_type": "code",
      "execution_count": 52,
      "metadata": {
        "id": "EOb1rd56fK0_",
        "colab": {
          "base_uri": "https://localhost:8080/"
        },
        "outputId": "8c2f404c-5189-4913-c791-967a0bfc99a4"
      },
      "outputs": [
        {
          "output_type": "stream",
          "name": "stdout",
          "text": [
            "[[0.         0.25237491 0.62123312 0.11165724 0.68002131 0.47674326 0.29495966 0.66198979 0.52174862 0.68572058]\n",
            " [0.25237491 0.         0.8457884  0.17063412 0.89925384 0.72708238 0.34908277 0.77577372 0.28845467 0.6060075 ]\n",
            " [0.62123312 0.8457884  0.         0.67526317 0.0654464  0.2611752  0.85085301 0.44620206 1.1323271  0.89855566]\n",
            " [0.11165724 0.17063412 0.67526317 0.         0.72921472 0.56422596 0.35270954 0.64024221 0.45762263 0.58925965]\n",
            " [0.68002131 0.89925384 0.0654464  0.72921472 0.         0.32396997 0.91480307 0.43729327 1.18681969 0.91550553]\n",
            " [0.47674326 0.72708238 0.2611752  0.56422596 0.32396997 0.         0.64129688 0.62037771 0.99644706 0.95852686]\n",
            " [0.29495966 0.34908277 0.85085301 0.35270954 0.91480307 0.64129688 0.         0.95574417 0.46587476 0.93129544]\n",
            " [0.66198979 0.77577372 0.44620206 0.64024221 0.43729327 0.62037771 0.95574417 0.         1.04601547 0.52899983]\n",
            " [0.52174862 0.28845467 1.1323271  0.45762263 1.18681969 0.99644706 0.46587476 1.04601547 0.         0.76700988]\n",
            " [0.68572058 0.6060075  0.89855566 0.58925965 0.91550553 0.95852686 0.93129544 0.52899983 0.76700988 0.        ]]\n"
          ]
        }
      ],
      "source": [
        "aray = np.random.random((10,2))\n",
        "X,Y = np.atleast_2d(aray[:,0], aray[:,1])\n",
        "D = np.sqrt( (X-X.T)**2 + (Y-Y.T)**2)\n",
        "print(D)"
      ]
    },
    {
      "cell_type": "markdown",
      "metadata": {
        "id": "rwMAyw5QfK1A"
      },
      "source": [
        "#### 53. How to convert a float (32 bits) array into an integer (32 bits) in place? \n",
        "(**hint**: astype(copy=False))"
      ]
    },
    {
      "cell_type": "code",
      "execution_count": 53,
      "metadata": {
        "id": "UmfupqR7fK1B",
        "colab": {
          "base_uri": "https://localhost:8080/"
        },
        "outputId": "9948cccf-1261-480c-8627-85c6ad5c7d22"
      },
      "outputs": [
        {
          "output_type": "stream",
          "name": "stdout",
          "text": [
            "[0. 1. 2. 3. 4. 5. 6. 7. 8. 9.]\n"
          ]
        }
      ],
      "source": [
        "aray = np.arange(10, dtype=np.int32)\n",
        "aray = aray.astype(np.float32, copy=False)\n",
        "print(aray)"
      ]
    },
    {
      "cell_type": "markdown",
      "metadata": {
        "id": "bwnTzgyRfK1C"
      },
      "source": [
        "#### 54. How to read the following file? (★★☆) \n",
        "(**hint**: np.genfromtxt)"
      ]
    },
    {
      "cell_type": "markdown",
      "metadata": {
        "id": "NXk-dEPOfK1D"
      },
      "source": [
        "```\n",
        "1, 2, 3, 4, 5\n",
        "6,  ,  , 7, 8\n",
        " ,  , 9,10,11\n",
        "```"
      ]
    },
    {
      "cell_type": "code",
      "execution_count": 54,
      "metadata": {
        "id": "EIR6M6HFfK1D",
        "colab": {
          "base_uri": "https://localhost:8080/"
        },
        "outputId": "1acaac5f-25a9-4a40-e193-60a64da7aad2"
      },
      "outputs": [
        {
          "output_type": "stream",
          "name": "stdout",
          "text": [
            "[[ 1  2  3  4  5]\n",
            " [ 6 -1 -1  7  8]\n",
            " [-1 -1  9 10 11]]\n"
          ]
        },
        {
          "output_type": "stream",
          "name": "stderr",
          "text": [
            "/usr/local/lib/python3.7/dist-packages/ipykernel_launcher.py:5: DeprecationWarning: `np.int` is a deprecated alias for the builtin `int`. To silence this warning, use `int` by itself. Doing this will not modify any behavior and is safe. When replacing `np.int`, you may wish to use e.g. `np.int64` or `np.int32` to specify the precision. If you wish to review your current use, check the release note link for additional information.\n",
            "Deprecated in NumPy 1.20; for more details and guidance: https://numpy.org/devdocs/release/1.20.0-notes.html#deprecations\n",
            "  \"\"\"\n"
          ]
        }
      ],
      "source": [
        "from io import StringIO\n",
        "string = StringIO(\"\"\"1, 2, 3, 4, 5\\n\n",
        "                6,  ,  , 7, 8\\n\n",
        "                 ,  , 9,10,11\\n\"\"\")\n",
        "out = np.genfromtxt(string, delimiter=\",\", dtype=np.int)\n",
        "print(out)"
      ]
    },
    {
      "cell_type": "markdown",
      "metadata": {
        "id": "Rux6goKqfK1F"
      },
      "source": [
        "#### 55. What is the equivalent of enumerate for numpy arrays? (★★☆) \n",
        "(**hint**: np.ndenumerate, np.ndindex)"
      ]
    },
    {
      "cell_type": "code",
      "execution_count": 55,
      "metadata": {
        "id": "WnOol8_rfK1G",
        "colab": {
          "base_uri": "https://localhost:8080/"
        },
        "outputId": "8e54b2cd-3ca3-47f1-ea21-886a09946573"
      },
      "outputs": [
        {
          "output_type": "stream",
          "name": "stdout",
          "text": [
            "(0, 0) 0\n",
            "(0, 1) 1\n",
            "(0, 2) 2\n",
            "(1, 0) 3\n",
            "(1, 1) 4\n",
            "(1, 2) 5\n",
            "(2, 0) 6\n",
            "(2, 1) 7\n",
            "(2, 2) 8\n",
            "(0, 0) 0\n",
            "(0, 1) 1\n",
            "(0, 2) 2\n",
            "(1, 0) 3\n",
            "(1, 1) 4\n",
            "(1, 2) 5\n",
            "(2, 0) 6\n",
            "(2, 1) 7\n",
            "(2, 2) 8\n"
          ]
        }
      ],
      "source": [
        "Z = np.arange(9).reshape(3,3)\n",
        "for index, value in np.ndenumerate(Z):\n",
        "    print(index, value)\n",
        "for index in np.ndindex(Z.shape):\n",
        "    print(index, Z[index])"
      ]
    },
    {
      "cell_type": "markdown",
      "metadata": {
        "id": "rhu3dXARfK1G"
      },
      "source": [
        "#### 56. Generate a generic 2D Gaussian-like array (★★☆) \n",
        "(**hint**: np.meshgrid, np.exp)"
      ]
    },
    {
      "cell_type": "code",
      "execution_count": 56,
      "metadata": {
        "id": "mx5RbLoufK1H",
        "colab": {
          "base_uri": "https://localhost:8080/"
        },
        "outputId": "a1191388-d649-4f2f-8861-8d13a2ac1b99"
      },
      "outputs": [
        {
          "output_type": "stream",
          "name": "stdout",
          "text": [
            "[[0.36787944 0.44822088 0.51979489 0.57375342 0.60279818 0.60279818 0.57375342 0.51979489 0.44822088 0.36787944]\n",
            " [0.44822088 0.54610814 0.63331324 0.69905581 0.73444367 0.73444367 0.69905581 0.63331324 0.54610814 0.44822088]\n",
            " [0.51979489 0.63331324 0.73444367 0.81068432 0.85172308 0.85172308 0.81068432 0.73444367 0.63331324 0.51979489]\n",
            " [0.57375342 0.69905581 0.81068432 0.89483932 0.9401382  0.9401382  0.89483932 0.81068432 0.69905581 0.57375342]\n",
            " [0.60279818 0.73444367 0.85172308 0.9401382  0.98773022 0.98773022 0.9401382  0.85172308 0.73444367 0.60279818]\n",
            " [0.60279818 0.73444367 0.85172308 0.9401382  0.98773022 0.98773022 0.9401382  0.85172308 0.73444367 0.60279818]\n",
            " [0.57375342 0.69905581 0.81068432 0.89483932 0.9401382  0.9401382  0.89483932 0.81068432 0.69905581 0.57375342]\n",
            " [0.51979489 0.63331324 0.73444367 0.81068432 0.85172308 0.85172308 0.81068432 0.73444367 0.63331324 0.51979489]\n",
            " [0.44822088 0.54610814 0.63331324 0.69905581 0.73444367 0.73444367 0.69905581 0.63331324 0.54610814 0.44822088]\n",
            " [0.36787944 0.44822088 0.51979489 0.57375342 0.60279818 0.60279818 0.57375342 0.51979489 0.44822088 0.36787944]]\n"
          ]
        }
      ],
      "source": [
        "X, Y = np.meshgrid(np.linspace(-1,1,10), np.linspace(-1,1,10))\n",
        "D = np.sqrt(X*X+Y*Y)\n",
        "sigma, mu = 1.0, 0.0\n",
        "G = np.exp(-( (D-mu)**2 / ( 2.0 * sigma**2 ) ) )\n",
        "print(G)"
      ]
    },
    {
      "cell_type": "markdown",
      "metadata": {
        "id": "aAsPvYt4fK1J"
      },
      "source": [
        "#### 57. How to randomly place p elements in a 2D array? (★★☆) \n",
        "(**hint**: np.put, np.random.choice)"
      ]
    },
    {
      "cell_type": "code",
      "execution_count": 57,
      "metadata": {
        "id": "zdPTX6WmfK1J",
        "colab": {
          "base_uri": "https://localhost:8080/"
        },
        "outputId": "ee684528-4b16-42d7-fc66-b33f083d2af6"
      },
      "outputs": [
        {
          "output_type": "stream",
          "name": "stdout",
          "text": [
            "[[0. 0. 0. 0. 0. 0. 0. 0. 0. 0.]\n",
            " [0. 0. 0. 0. 0. 0. 0. 0. 0. 0.]\n",
            " [0. 0. 0. 0. 0. 0. 0. 0. 0. 0.]\n",
            " [0. 0. 0. 0. 0. 0. 0. 0. 0. 0.]\n",
            " [0. 0. 0. 0. 0. 0. 0. 0. 0. 0.]\n",
            " [0. 0. 0. 0. 0. 0. 0. 1. 0. 0.]\n",
            " [0. 0. 0. 0. 0. 0. 0. 0. 0. 0.]\n",
            " [0. 0. 0. 0. 0. 0. 0. 0. 1. 0.]\n",
            " [0. 0. 0. 0. 0. 0. 0. 0. 0. 0.]\n",
            " [0. 0. 0. 0. 1. 0. 0. 0. 0. 0.]]\n"
          ]
        }
      ],
      "source": [
        "n = 10\n",
        "p = 3\n",
        "aray= np.zeros((n,n))\n",
        "np.put(aray, np.random.choice(range(n*n), p, replace=False),1)\n",
        "print(aray)"
      ]
    },
    {
      "cell_type": "markdown",
      "metadata": {
        "id": "_FVDc8M8fK1K"
      },
      "source": [
        "#### 58. Subtract the mean of each row of a matrix (★★☆) \n",
        "(**hint**: mean(axis=,keepdims=))"
      ]
    },
    {
      "cell_type": "code",
      "execution_count": 58,
      "metadata": {
        "id": "1m3zjrG0fK1K",
        "colab": {
          "base_uri": "https://localhost:8080/"
        },
        "outputId": "be543a13-fc34-4da2-aa35-b65d8ce51ef1"
      },
      "outputs": [
        {
          "output_type": "stream",
          "name": "stdout",
          "text": [
            "[[ 0.17224362  0.40239004  0.15813559 -0.00390386 -0.08698622 -0.333568   -0.1836233  -0.32755814  0.2535306  -0.05066032]\n",
            " [ 0.29895471  0.02299076 -0.48437712  0.30014566 -0.5459897   0.2701326   0.2785653  -0.26257544 -0.16618895  0.28834218]\n",
            " [ 0.00715388 -0.12687488  0.18471488 -0.28722331  0.3801653  -0.08952151 -0.12609618 -0.2004174   0.05565724  0.20244198]\n",
            " [ 0.18635659  0.11872567  0.09941858  0.09020219 -0.10436562 -0.14415875 -0.16506083  0.03215235  0.15131724 -0.2645874 ]\n",
            " [ 0.31049841 -0.53692413 -0.19992016 -0.04837598 -0.2044849   0.27317287  0.09520506 -0.09157175  0.23824484  0.16415574]]\n"
          ]
        }
      ],
      "source": [
        "X = np.random.rand(5, 10)\n",
        "Y = X - X.mean(axis=1, keepdims=True)\n",
        "\n",
        "print(Y)"
      ]
    },
    {
      "cell_type": "markdown",
      "metadata": {
        "id": "mXdukOHXfK1M"
      },
      "source": [
        "#### 59. How to sort an array by the nth column? (★★☆) \n",
        "(**hint**: argsort)"
      ]
    },
    {
      "cell_type": "code",
      "execution_count": 59,
      "metadata": {
        "id": "Ycmeohz6fK1M",
        "colab": {
          "base_uri": "https://localhost:8080/"
        },
        "outputId": "478210df-1d6d-4c36-ecc8-d483c34b3229"
      },
      "outputs": [
        {
          "output_type": "stream",
          "name": "stdout",
          "text": [
            "[[3 3 5]\n",
            " [4 5 9]\n",
            " [8 5 8]]\n",
            "[[3 3 5]\n",
            " [4 5 9]\n",
            " [8 5 8]]\n"
          ]
        }
      ],
      "source": [
        "x = np.random.randint(0,10,(3,3))\n",
        "print(x)\n",
        "print(x[x[:,1].argsort()])"
      ]
    },
    {
      "cell_type": "markdown",
      "metadata": {
        "id": "vbqAMFBXfK1N"
      },
      "source": [
        "#### 60. How to tell if a given 2D array has null columns? (★★☆) \n",
        "(**hint**: any, ~)"
      ]
    },
    {
      "cell_type": "code",
      "execution_count": 60,
      "metadata": {
        "id": "8nJUMj6PfK1N",
        "colab": {
          "base_uri": "https://localhost:8080/"
        },
        "outputId": "4db4beae-a96b-4ac1-8ad6-77e9be0e0efc"
      },
      "outputs": [
        {
          "output_type": "stream",
          "name": "stdout",
          "text": [
            "False\n"
          ]
        }
      ],
      "source": [
        "Z = np.random.randint(0,3,(3,10))\n",
        "print((~Z.any(axis=0)).any())"
      ]
    },
    {
      "cell_type": "markdown",
      "metadata": {
        "id": "-yYjIWlzfK1P"
      },
      "source": [
        "#### 61. Find the nearest value from a given value in an array (★★☆) \n",
        "(**hint**: np.abs, argmin, flat)"
      ]
    },
    {
      "cell_type": "code",
      "execution_count": 61,
      "metadata": {
        "id": "cTqKr230fK1Q",
        "colab": {
          "base_uri": "https://localhost:8080/"
        },
        "outputId": "ac8c9411-d464-48d7-ea5f-ff64febd203f"
      },
      "outputs": [
        {
          "output_type": "stream",
          "name": "stdout",
          "text": [
            "0.5222925519304158\n"
          ]
        }
      ],
      "source": [
        "aray = np.random.uniform(0,1,10)\n",
        "x = 0.5\n",
        "m = aray.flat[np.abs(aray - x).argmin()]\n",
        "print(m)"
      ]
    },
    {
      "cell_type": "markdown",
      "metadata": {
        "id": "qWcSCypzfK1Q"
      },
      "source": [
        "#### 62. Considering two arrays with shape (1,3) and (3,1), how to compute their sum using an iterator? (★★☆) \n",
        "(**hint**: np.nditer)"
      ]
    },
    {
      "cell_type": "code",
      "execution_count": 62,
      "metadata": {
        "id": "deEExBtwfK1R",
        "colab": {
          "base_uri": "https://localhost:8080/"
        },
        "outputId": "a97dfe4a-153d-40b6-9912-9cdbde14428b"
      },
      "outputs": [
        {
          "output_type": "stream",
          "name": "stdout",
          "text": [
            "[[0 1 2]\n",
            " [1 2 3]\n",
            " [2 3 4]]\n"
          ]
        }
      ],
      "source": [
        "A = np.arange(3).reshape(3,1)\n",
        "B = np.arange(3).reshape(1,3)\n",
        "itr = np.nditer([A,B,None])\n",
        "for x,y,z in itr: z[...] = x + y\n",
        "print(itr.operands[2])"
      ]
    },
    {
      "cell_type": "markdown",
      "metadata": {
        "id": "EV-wjCZqfK1S"
      },
      "source": [
        "#### 63. Create an array class that has a name attribute (★★☆) \n",
        "(**hint**: class method)"
      ]
    },
    {
      "cell_type": "code",
      "execution_count": 63,
      "metadata": {
        "id": "4or2XVSsfK1T",
        "colab": {
          "base_uri": "https://localhost:8080/"
        },
        "outputId": "21cd9886-ccb6-43d8-aabd-733c95273409"
      },
      "outputs": [
        {
          "output_type": "stream",
          "name": "stdout",
          "text": [
            "range_10\n"
          ]
        }
      ],
      "source": [
        "class NamedArray(np.ndarray):\n",
        "    def __new__(cls, array, name=\"no name\"):\n",
        "        obj = np.asarray(array).view(cls)\n",
        "        obj.name = name\n",
        "        return obj\n",
        "    def __array_finalize__(self, obj):\n",
        "        if obj is None: return\n",
        "        self.info = getattr(obj, 'name', \"no name\")\n",
        "\n",
        "aray = NamedArray(np.arange(10), \"range_10\")\n",
        "print (aray.name)"
      ]
    },
    {
      "cell_type": "markdown",
      "metadata": {
        "id": "0CiIM7DsfK1T"
      },
      "source": [
        "#### 64. Consider a given vector, how to add 1 to each element indexed by a second vector (be careful with repeated indices)? (★★★) \n",
        "(**hint**: np.bincount | np.add.at)"
      ]
    },
    {
      "cell_type": "code",
      "execution_count": 64,
      "metadata": {
        "id": "I2o6wurLfK1U",
        "colab": {
          "base_uri": "https://localhost:8080/"
        },
        "outputId": "59bbed53-b114-4398-b7f0-1b2d7577bf99"
      },
      "outputs": [
        {
          "output_type": "stream",
          "name": "stdout",
          "text": [
            "[2. 4. 4. 2. 3. 3. 2. 3. 4. 3.]\n"
          ]
        }
      ],
      "source": [
        "Z = np.ones(10)\n",
        "I = np.random.randint(0,len(Z),20)\n",
        "Z += np.bincount(I, minlength=len(Z))\n",
        "print(Z)\n"
      ]
    },
    {
      "cell_type": "markdown",
      "metadata": {
        "id": "EhWWUaAvfK1V"
      },
      "source": [
        "#### 65. How to accumulate elements of a vector (X) to an array (F) based on an index list (I)? (★★★) \n",
        "(**hint**: np.bincount)"
      ]
    },
    {
      "cell_type": "code",
      "execution_count": 65,
      "metadata": {
        "id": "es34Tc0CfK1W",
        "colab": {
          "base_uri": "https://localhost:8080/"
        },
        "outputId": "115298ad-7968-422b-f869-f0a73aac674e"
      },
      "outputs": [
        {
          "output_type": "stream",
          "name": "stdout",
          "text": [
            "[0. 7. 0. 6. 5. 0. 0. 0. 0. 3.]\n"
          ]
        }
      ],
      "source": [
        "X = [1,2,3,4,5,6]\n",
        "I = [1,3,9,3,4,1]\n",
        "F = np.bincount(I,X)\n",
        "print(F)"
      ]
    },
    {
      "cell_type": "markdown",
      "metadata": {
        "id": "Ps9kk2l9fK1W"
      },
      "source": [
        "#### 66. Considering a (w,h,3) image of (dtype=ubyte), compute the number of unique colors (★★★) \n",
        "(**hint**: np.unique)"
      ]
    },
    {
      "cell_type": "code",
      "execution_count": 66,
      "metadata": {
        "id": "CGEselZqfK1X",
        "colab": {
          "base_uri": "https://localhost:8080/"
        },
        "outputId": "28be31f9-df19-40c5-e24c-660970cadc02"
      },
      "outputs": [
        {
          "output_type": "stream",
          "name": "stdout",
          "text": [
            "[0 1]\n"
          ]
        }
      ],
      "source": [
        "w,h = 16,16\n",
        "I = np.random.randint(0,2,(h,w,3)).astype(np.ubyte)\n",
        "F = I[...,0]*256*256 + I[...,1]*256 +I[...,2]\n",
        "n = len(np.unique(F))\n",
        "print(np.unique(I))"
      ]
    },
    {
      "cell_type": "markdown",
      "metadata": {
        "id": "CybJn5t-fK1Y"
      },
      "source": [
        "#### 67. Considering a four dimensions array, how to get sum over the last two axis at once? (★★★) \n",
        "(**hint**: sum(axis=(-2,-1)))"
      ]
    },
    {
      "cell_type": "code",
      "execution_count": 67,
      "metadata": {
        "id": "HeTp1SsrfK1Z",
        "colab": {
          "base_uri": "https://localhost:8080/"
        },
        "outputId": "24f17d06-6a17-4026-b676-253f338ad806"
      },
      "outputs": [
        {
          "output_type": "stream",
          "name": "stdout",
          "text": [
            "[[60 60 65 52]\n",
            " [50 35 45 54]\n",
            " [49 58 53 48]]\n"
          ]
        }
      ],
      "source": [
        "A = np.random.randint(0,10,(3,4,3,4))\n",
        "sum = A.sum(axis=(-2,-1))\n",
        "\n",
        "print(sum)\n"
      ]
    },
    {
      "cell_type": "markdown",
      "metadata": {
        "id": "rAASVVRnfK1a"
      },
      "source": [
        "#### 68. Considering a one-dimensional vector D, how to compute means of subsets of D using a vector S of same size describing subset  indices? (★★★) \n",
        "(**hint**: np.bincount)"
      ]
    },
    {
      "cell_type": "code",
      "execution_count": 68,
      "metadata": {
        "id": "sA24kewZfK1b",
        "colab": {
          "base_uri": "https://localhost:8080/"
        },
        "outputId": "aed5823b-0443-414a-a9de-bb31b4d0d06c"
      },
      "outputs": [
        {
          "output_type": "stream",
          "name": "stdout",
          "text": [
            "[0.6419423  0.57794815 0.42247831 0.64049703 0.43554899 0.37103381 0.51850246 0.48165446 0.49277908 0.39295773]\n"
          ]
        }
      ],
      "source": [
        "D = np.random.uniform(0,1,100)\n",
        "S = np.random.randint(0,10,100)\n",
        "D_sums = np.bincount(S, weights=D)\n",
        "D_counts = np.bincount(S)\n",
        "D_means = D_sums / D_counts\n",
        "print(D_means)"
      ]
    },
    {
      "cell_type": "markdown",
      "metadata": {
        "id": "H86vdzJvfK1b"
      },
      "source": [
        "#### 69. How to get the diagonal of a dot product? (★★★) \n",
        "(**hint**: np.diag)"
      ]
    },
    {
      "cell_type": "code",
      "execution_count": 69,
      "metadata": {
        "id": "edxVwmIvfK1c",
        "colab": {
          "base_uri": "https://localhost:8080/"
        },
        "outputId": "8621a596-c518-4672-8dbd-7fe9b127fe08"
      },
      "outputs": [
        {
          "output_type": "execute_result",
          "data": {
            "text/plain": [
              "array([1.71368166, 2.30171153, 2.14285161, 0.85414991, 1.42304133])"
            ]
          },
          "metadata": {},
          "execution_count": 69
        }
      ],
      "source": [
        "A = np.random.uniform(0,1,(5,5))\n",
        "B = np.random.uniform(0,1,(5,5))\n",
        "\n",
        "np.diag(np.dot(A, B))"
      ]
    },
    {
      "cell_type": "markdown",
      "metadata": {
        "id": "Rn8yJvuRfK1d"
      },
      "source": [
        "#### 70. Consider the vector \\[1, 2, 3, 4, 5\\], how to build a new vector with 3 consecutive zeros interleaved between each value? (★★★) \n",
        "(**hint**: array\\[::4\\])"
      ]
    },
    {
      "cell_type": "code",
      "execution_count": 70,
      "metadata": {
        "id": "SLMRRJRhfK1e",
        "colab": {
          "base_uri": "https://localhost:8080/"
        },
        "outputId": "1a4e79b0-6581-4613-b2d1-05607a15b559"
      },
      "outputs": [
        {
          "output_type": "stream",
          "name": "stdout",
          "text": [
            "[1. 0. 0. 0. 2. 0. 0. 0. 3. 0. 0. 0. 4. 0. 0. 0. 5.]\n"
          ]
        }
      ],
      "source": [
        "x = np.array([1,2,3,4,5])\n",
        "nx = 3\n",
        "x_new = np.zeros(len(x) + (len(x)-1)*(nx))\n",
        "x_new[::nx+1] = x\n",
        "print(x_new)"
      ]
    },
    {
      "cell_type": "markdown",
      "metadata": {
        "id": "cn-3avCOfK1e"
      },
      "source": [
        "#### 71. Consider an array of dimension (5,5,3), how to mulitply it by an array with dimensions (5,5)? (★★★) \n",
        "(**hint**: array\\[:, :, None\\])"
      ]
    },
    {
      "cell_type": "code",
      "execution_count": 71,
      "metadata": {
        "collapsed": true,
        "id": "jGA7lJXgfK1f",
        "colab": {
          "base_uri": "https://localhost:8080/"
        },
        "outputId": "1746bb98-b953-4470-ed6d-bff82ff0f35c"
      },
      "outputs": [
        {
          "output_type": "stream",
          "name": "stdout",
          "text": [
            "[[[2. 2. 2.]\n",
            "  [2. 2. 2.]\n",
            "  [2. 2. 2.]\n",
            "  [2. 2. 2.]\n",
            "  [2. 2. 2.]]\n",
            "\n",
            " [[2. 2. 2.]\n",
            "  [2. 2. 2.]\n",
            "  [2. 2. 2.]\n",
            "  [2. 2. 2.]\n",
            "  [2. 2. 2.]]\n",
            "\n",
            " [[2. 2. 2.]\n",
            "  [2. 2. 2.]\n",
            "  [2. 2. 2.]\n",
            "  [2. 2. 2.]\n",
            "  [2. 2. 2.]]\n",
            "\n",
            " [[2. 2. 2.]\n",
            "  [2. 2. 2.]\n",
            "  [2. 2. 2.]\n",
            "  [2. 2. 2.]\n",
            "  [2. 2. 2.]]\n",
            "\n",
            " [[2. 2. 2.]\n",
            "  [2. 2. 2.]\n",
            "  [2. 2. 2.]\n",
            "  [2. 2. 2.]\n",
            "  [2. 2. 2.]]]\n"
          ]
        }
      ],
      "source": [
        "A = np.ones((5,5,3))\n",
        "B = 2*np.ones((5,5))\n",
        "print(A * B[:,:,None])"
      ]
    },
    {
      "cell_type": "markdown",
      "metadata": {
        "id": "MMmlYvWgfK1g"
      },
      "source": [
        "#### 72. How to swap two rows of an array? (★★★) \n",
        "(**hint**: array\\[\\[\\]\\] = array\\[\\[\\]\\])"
      ]
    },
    {
      "cell_type": "code",
      "execution_count": 72,
      "metadata": {
        "id": "WJT7BdYZfK1h",
        "colab": {
          "base_uri": "https://localhost:8080/"
        },
        "outputId": "36386fb8-ce78-40d3-801b-c9579d615235"
      },
      "outputs": [
        {
          "output_type": "stream",
          "name": "stdout",
          "text": [
            "[[ 5  6  7  8  9]\n",
            " [ 0  1  2  3  4]\n",
            " [10 11 12 13 14]\n",
            " [15 16 17 18 19]\n",
            " [20 21 22 23 24]]\n"
          ]
        }
      ],
      "source": [
        "A = np.arange(25).reshape(5,5)\n",
        "A[[0,1]] = A[[1,0]]\n",
        "print(A)"
      ]
    },
    {
      "cell_type": "markdown",
      "metadata": {
        "id": "ZTTSXkuwfK1i"
      },
      "source": [
        "#### 73. Consider a set of 10 triplets describing 10 triangles (with shared vertices), find the set of unique line segments composing all the  triangles (★★★) \n",
        "(**hint**: repeat, np.roll, np.sort, view, np.unique)"
      ]
    },
    {
      "cell_type": "code",
      "execution_count": 73,
      "metadata": {
        "id": "Os_3O0gIfK1j",
        "colab": {
          "base_uri": "https://localhost:8080/"
        },
        "outputId": "2f6e467d-7681-43ec-896b-becd82b7a205"
      },
      "outputs": [
        {
          "output_type": "stream",
          "name": "stdout",
          "text": [
            "[( 2, 43) ( 2, 95) ( 4,  9) ( 4, 29) ( 9, 29) (10, 32) (10, 61) (15, 50) (15, 59) (17, 44) (17, 69) (22, 36) (22, 41) (23, 29) (23, 44) (24, 26) (24, 69) (26, 69) (28, 69) (28, 98) (29, 44) (30, 40) (30, 66) (32, 61) (36, 41) (40, 66) (43, 95) (44, 69) (50, 59) (69, 98)]\n"
          ]
        }
      ],
      "source": [
        "faces = np.random.randint(0,100,(10,3))\n",
        "F = np.roll(faces.repeat(2,axis=1),-1,axis=1)\n",
        "F = F.reshape(len(F)*3,2)\n",
        "F = np.sort(F,axis=1)\n",
        "G = F.view( dtype=[('p0',F.dtype),('p1',F.dtype)] )\n",
        "G = np.unique(G)\n",
        "print(G)"
      ]
    },
    {
      "cell_type": "markdown",
      "metadata": {
        "id": "hhFoT4BdfK1j"
      },
      "source": [
        "#### 74. Given an array C that is a bincount, how to produce an array A such that np.bincount(A) == C? (★★★) \n",
        "(**hint**: np.repeat)"
      ]
    },
    {
      "cell_type": "code",
      "execution_count": 74,
      "metadata": {
        "id": "lY_HtkVnfK1l",
        "colab": {
          "base_uri": "https://localhost:8080/"
        },
        "outputId": "3bd5eb11-4d58-4c3a-985a-2d2e3367ffbb"
      },
      "outputs": [
        {
          "output_type": "stream",
          "name": "stdout",
          "text": [
            "[1 1 2 3 4 4 6]\n"
          ]
        }
      ],
      "source": [
        "C = np.bincount([1,1,2,3,4,4,6])\n",
        "A = np.repeat(np.arange(len(C)), C)\n",
        "print(A)"
      ]
    },
    {
      "cell_type": "markdown",
      "metadata": {
        "id": "gdmyKPtWfK1m"
      },
      "source": [
        "#### 75. How to compute averages using a sliding window over an array? (★★★) \n",
        "(**hint**: np.cumsum)"
      ]
    },
    {
      "cell_type": "code",
      "execution_count": 75,
      "metadata": {
        "id": "9jQeC2sTfK1m",
        "colab": {
          "base_uri": "https://localhost:8080/"
        },
        "outputId": "9cb067e8-2411-4b62-c08e-ae0645e7703f"
      },
      "outputs": [
        {
          "output_type": "stream",
          "name": "stdout",
          "text": [
            "[ 1.  2.  3.  4.  5.  6.  7.  8.  9. 10. 11. 12. 13. 14. 15. 16. 17. 18.]\n"
          ]
        }
      ],
      "source": [
        "def moving_average(a, n=3) :\n",
        "    ret = np.cumsum(a, dtype=float)\n",
        "    ret[n:] = ret[n:] - ret[:-n]\n",
        "    return ret[n - 1:] / n\n",
        "Z = np.arange(20)\n",
        "print(moving_average(Z, n=3))"
      ]
    },
    {
      "cell_type": "markdown",
      "metadata": {
        "id": "VWVsm5xBfK1n"
      },
      "source": [
        "#### 76. Consider a one-dimensional array Z, build a two-dimensional array whose first row is (Z\\[0\\],Z\\[1\\],Z\\[2\\]) and each subsequent row is  shifted by 1 (last row should be (Z\\[-3\\],Z\\[-2\\],Z\\[-1\\]) (★★★) \n",
        "(**hint**: from numpy.lib import stride_tricks)"
      ]
    },
    {
      "cell_type": "code",
      "execution_count": 76,
      "metadata": {
        "id": "cAJ1wGy9fK1o",
        "colab": {
          "base_uri": "https://localhost:8080/"
        },
        "outputId": "4d9fe0a2-c697-4764-c119-b45e568fe499"
      },
      "outputs": [
        {
          "output_type": "stream",
          "name": "stdout",
          "text": [
            "[[0 1 2]\n",
            " [1 2 3]\n",
            " [2 3 4]\n",
            " [3 4 5]\n",
            " [4 5 6]\n",
            " [5 6 7]\n",
            " [6 7 8]\n",
            " [7 8 9]]\n"
          ]
        }
      ],
      "source": [
        "from numpy.lib import stride_tricks\n",
        "\n",
        "def rolling(a, window):\n",
        "    shape = (a.size - window + 1, window)\n",
        "    strides = (a.itemsize, a.itemsize)\n",
        "    return stride_tricks.as_strided(a, shape=shape, strides=strides)\n",
        "Z = rolling(np.arange(10), 3)\n",
        "print(Z)"
      ]
    },
    {
      "cell_type": "markdown",
      "metadata": {
        "id": "xGPW-A-MfK1q"
      },
      "source": [
        "#### 77. How to negate a boolean, or to change the sign of a float inplace? (★★★) \n",
        "(**hint**: np.logical_not, np.negative)"
      ]
    },
    {
      "cell_type": "code",
      "execution_count": 77,
      "metadata": {
        "id": "8JbGzuHKfK1r",
        "colab": {
          "base_uri": "https://localhost:8080/"
        },
        "outputId": "9e704091-2c0d-4745-a9f7-2c3a70ff4041"
      },
      "outputs": [
        {
          "output_type": "execute_result",
          "data": {
            "text/plain": [
              "array([-7.32046997e-01,  3.77265937e-01,  9.81830441e-01, -8.19493218e-01,  8.30886107e-01,  9.15934728e-02,  2.20947282e-01,  1.59390157e-01,  7.39600743e-01, -4.22023806e-01, -5.90587425e-01,  1.22413974e-01,  8.99204321e-01, -6.57157225e-03, -4.73409358e-01, -1.54427464e-01, -7.58228237e-01,  7.91447953e-01,  5.34132503e-01, -8.40809555e-01, -1.39957486e-01,  2.94233493e-01,  3.62299557e-01,  2.27945521e-01,  4.49528884e-01, -1.64617523e-01, -3.14121337e-01, -4.01654199e-01, -8.11717016e-01,  5.39518477e-01, -4.82562799e-01, -5.34885155e-01,  1.96517539e-04,  1.20784632e-01,  6.70192450e-01,  1.76264293e-01,  7.60460779e-02,  2.55620254e-01, -7.50203068e-01, -4.94191788e-01,  7.89766902e-01, -1.26605562e-01, -2.47470225e-01, -6.95849270e-01, -5.93508762e-01,  4.80611513e-01,  9.78465266e-01,  9.87967958e-02, -3.69990501e-01,  1.55538638e-01,  5.43366074e-01,  3.82714444e-01, -7.19739336e-01,  5.64572345e-01, -1.75921568e-02,  9.07362340e-01, -3.33447473e-01,  7.80374653e-01,  3.28982944e-01,  6.34654674e-01,  5.57670796e-01,  2.28179707e-01, -4.82682740e-01, -8.71079276e-01, -9.94154742e-01,  1.33693070e-01,  7.90517934e-01,  1.17879636e-01,  8.51739590e-01, -8.07077952e-01,  4.19273842e-01,  2.77916058e-01, -5.26725093e-02, -2.50988604e-01, -2.16559496e-01, -6.46889031e-01,  6.54277158e-01, -2.63447091e-01,  7.16835266e-01, -1.88456923e-01, -4.74470640e-01, -3.09057813e-01, -5.50539051e-02,  3.25402272e-01, -3.97406088e-01, -3.57007457e-01,  6.16285793e-01, -1.40562976e-03, -6.14492683e-01, -1.40220945e-01,  6.34016327e-01, -2.05676896e-01,  5.93329166e-01, -1.57193126e-01,  3.12927800e-01, -8.40495402e-02,  1.97673956e-01, -1.79265596e-01, -1.57008306e-01,  7.62040619e-01])"
            ]
          },
          "metadata": {},
          "execution_count": 77
        }
      ],
      "source": [
        "x = np.random.randint(0,2,100)\n",
        "np.logical_not(x, out=x)\n",
        "\n",
        "x = np.random.uniform(-1.0,1.0,100)\n",
        "np.negative(x, out=x)"
      ]
    },
    {
      "cell_type": "markdown",
      "metadata": {
        "id": "4lpP5YbHfK1s"
      },
      "source": [
        "#### 78. Consider 2 sets of points P0,P1 describing lines (2d) and a point p, how to compute distance from p to each line i  (P0\\[i\\],P1\\[i\\])? (★★★)"
      ]
    },
    {
      "cell_type": "code",
      "execution_count": 78,
      "metadata": {
        "id": "K6IphAUjfK1t",
        "colab": {
          "base_uri": "https://localhost:8080/"
        },
        "outputId": "878decee-f222-4238-b537-f89f7ebb6109"
      },
      "outputs": [
        {
          "output_type": "stream",
          "name": "stdout",
          "text": [
            "[ 6.95538182  8.08757517  2.42487627  5.50433007 11.72250736  1.83983803  5.01557572  9.93225841 12.89009205  9.70022375]\n"
          ]
        }
      ],
      "source": [
        "def distance(P0, P1, p):\n",
        "    T = P1 - P0\n",
        "    L = (T**2).sum(axis=1)\n",
        "    U = -((P0[:,0]-p[...,0])*T[:,0] + (P0[:,1]-p[...,1])*T[:,1]) / L\n",
        "    U = U.reshape(len(U),1)\n",
        "    D = P0 + U*T - p\n",
        "    return np.sqrt((D**2).sum(axis=1))\n",
        "\n",
        "P0 = np.random.uniform(-10,10,(10,2))\n",
        "P1 = np.random.uniform(-10,10,(10,2))\n",
        "p  = np.random.uniform(-10,10,( 1,2))\n",
        "print(distance(P0, P1, p))"
      ]
    },
    {
      "cell_type": "markdown",
      "metadata": {
        "id": "SG834juWfK1t"
      },
      "source": [
        "#### 79. Consider 2 sets of points P0,P1 describing lines (2d) and a set of points P, how to compute distance from each point j (P\\[j\\]) to each line i (P0\\[i\\],P1\\[i\\])? (★★★)"
      ]
    },
    {
      "cell_type": "code",
      "execution_count": 79,
      "metadata": {
        "id": "FHrXHbEZfK1u",
        "colab": {
          "base_uri": "https://localhost:8080/"
        },
        "outputId": "f2e0091e-6b2b-4de3-c396-57cdad093132"
      },
      "outputs": [
        {
          "output_type": "stream",
          "name": "stdout",
          "text": [
            "[[ 2.92051807  8.39210215  0.20449565  2.49814999  0.80544538  2.692806    8.43880819  6.83043997  2.67060235  6.16513393]\n",
            " [ 0.34384875  6.45127509  3.97802273  0.36695505  3.60570119  2.12998749  2.79680808  0.37108896  5.54387014  0.96840429]\n",
            " [ 1.78031837  7.82003523  4.21992086  1.09680494  3.78560418  2.19242561  4.37037442  0.73373759  6.10513344  0.306622  ]\n",
            " [ 2.9517823   3.89791821  8.69051229  3.99845459  8.59440796  7.6174717   4.03038631  8.86171783  8.68341383  9.42358474]\n",
            " [10.52876622  4.55897234  3.68749993 11.14345216  3.73899124  4.57958441  5.55009299  2.13637826  3.60821597  4.49372182]\n",
            " [ 0.47263692  6.09778959  7.65036961  1.39659347  7.41019387  6.16708206  0.42440798  5.30681965  8.42696378  5.69281007]\n",
            " [ 5.1921459   0.22513536  9.53086185  5.35569274  9.98416285 11.55461713  4.41345502  9.59131118  7.18965006  7.32111069]\n",
            " [ 1.52741261  7.73048731  5.5364158   0.76859001  5.14758395  3.63424466  3.26329078  0.99748149  7.14860648  1.34466624]\n",
            " [ 3.67662201  2.57449692  2.88980081  4.44247685  2.68053579  1.51569119  1.35625192  2.99841697  3.62738132  4.10534535]\n",
            " [ 0.55618775  5.22303373  0.50021559  1.11153702  0.08213082  1.46476899  3.84232655  2.6976198   2.39654682  1.72470189]]\n"
          ]
        }
      ],
      "source": [
        "P0 = np.random.uniform(-10, 10, (10,2))\n",
        "P1 = np.random.uniform(-10,10,(10,2))\n",
        "p = np.random.uniform(-10, 10, (10,2))\n",
        "print(np.array([distance(P0,P1,p_i) for p_i in p]))"
      ]
    },
    {
      "cell_type": "markdown",
      "metadata": {
        "id": "vTHFPS7jfK1u"
      },
      "source": [
        "#### 80. Consider an arbitrary array, write a function that extract a subpart with a fixed shape and centered on a given element (pad with a `fill` value when necessary) (★★★) \n",
        "(**hint**: minimum, maximum)"
      ]
    },
    {
      "cell_type": "code",
      "execution_count": 80,
      "metadata": {
        "id": "eFQtp6otfK1w",
        "colab": {
          "base_uri": "https://localhost:8080/"
        },
        "outputId": "a8cfadae-18e0-478b-e079-0bf5ebb24d0e"
      },
      "outputs": [
        {
          "output_type": "stream",
          "name": "stdout",
          "text": [
            "[[1 7 6 0 9 7 7 0 6 6]\n",
            " [1 4 7 2 9 1 5 0 1 3]\n",
            " [8 4 0 6 1 1 0 6 5 6]\n",
            " [7 8 4 0 4 2 3 4 4 3]\n",
            " [6 9 8 3 8 9 3 0 3 9]\n",
            " [6 9 6 6 2 9 5 6 5 5]\n",
            " [9 2 7 4 0 7 7 9 7 7]\n",
            " [4 7 8 1 1 5 1 1 0 4]\n",
            " [6 0 7 4 7 7 9 4 8 4]\n",
            " [2 1 6 9 2 5 7 2 9 5]]\n",
            "[[0 0 0 0 0]\n",
            " [0 1 7 6 0]\n",
            " [0 1 4 7 2]\n",
            " [0 8 4 0 6]\n",
            " [0 7 8 4 0]]\n"
          ]
        },
        {
          "output_type": "stream",
          "name": "stderr",
          "text": [
            "/usr/local/lib/python3.7/dist-packages/ipykernel_launcher.py:23: FutureWarning: Using a non-tuple sequence for multidimensional indexing is deprecated; use `arr[tuple(seq)]` instead of `arr[seq]`. In the future this will be interpreted as an array index, `arr[np.array(seq)]`, which will result either in an error or a different result.\n"
          ]
        }
      ],
      "source": [
        "Z = np.random.randint(0,10,(10,10))\n",
        "shape = (5,5)\n",
        "fill  = 0\n",
        "position = (1,1)\n",
        "\n",
        "R = np.ones(shape, dtype=Z.dtype)*fill\n",
        "P  = np.array(list(position)).astype(int)\n",
        "Rs = np.array(list(R.shape)).astype(int)\n",
        "Zs = np.array(list(Z.shape)).astype(int)\n",
        "\n",
        "R_start = np.zeros((len(shape),)).astype(int)\n",
        "R_stop  = np.array(list(shape)).astype(int)\n",
        "Z_start = (P-Rs//2)\n",
        "Z_stop  = (P+Rs//2)+Rs%2\n",
        "\n",
        "R_start = (R_start - np.minimum(Z_start,0)).tolist()\n",
        "Z_start = (np.maximum(Z_start,0)).tolist()\n",
        "R_stop = np.maximum(R_start, (R_stop - np.maximum(Z_stop-Zs,0))).tolist()\n",
        "Z_stop = (np.minimum(Z_stop,Zs)).tolist()\n",
        "\n",
        "r = [slice(start,stop) for start,stop in zip(R_start,R_stop)]\n",
        "z = [slice(start,stop) for start,stop in zip(Z_start,Z_stop)]\n",
        "R[r] = Z[z]\n",
        "print(Z)\n",
        "print(R)"
      ]
    },
    {
      "cell_type": "markdown",
      "metadata": {
        "id": "yQvvBxJZfK1x"
      },
      "source": [
        "#### 81. Consider an array Z = \\[1,2,3,4,5,6,7,8,9,10,11,12,13,14\\], how to generate an array R = \\[\\[1,2,3,4\\], \\[2,3,4,5\\], \\[3,4,5,6\\], ..., \\[11,12,13,14\\]\\]? (★★★) \n",
        "(**hint**: stride\\_tricks.as\\_strided)"
      ]
    },
    {
      "cell_type": "code",
      "execution_count": 81,
      "metadata": {
        "id": "sXXWBcJUfK1x",
        "colab": {
          "base_uri": "https://localhost:8080/"
        },
        "outputId": "4a328522-cf50-4ac2-a7af-aaf941d321eb"
      },
      "outputs": [
        {
          "output_type": "stream",
          "name": "stdout",
          "text": [
            "[[ 1  2  3  4]\n",
            " [ 2  3  4  5]\n",
            " [ 3  4  5  6]\n",
            " [ 4  5  6  7]\n",
            " [ 5  6  7  8]\n",
            " [ 6  7  8  9]\n",
            " [ 7  8  9 10]\n",
            " [ 8  9 10 11]\n",
            " [ 9 10 11 12]\n",
            " [10 11 12 13]\n",
            " [11 12 13 14]]\n"
          ]
        }
      ],
      "source": [
        "Z = np.arange(1,15,dtype=np.uint32)\n",
        "R = stride_tricks.as_strided(Z,(11,4),(4,4))\n",
        "print(R)"
      ]
    },
    {
      "cell_type": "markdown",
      "metadata": {
        "id": "A1eXeUZAfK1y"
      },
      "source": [
        "#### 82. Compute a matrix rank (★★★) \n",
        "(**hint**: np.linalg.svd) (suggestion: np.linalg.svd)"
      ]
    },
    {
      "cell_type": "code",
      "execution_count": 82,
      "metadata": {
        "id": "CDwWRfy2fK1z",
        "colab": {
          "base_uri": "https://localhost:8080/"
        },
        "outputId": "3a79e10b-31d8-4322-f509-c3df1b8b0ad0"
      },
      "outputs": [
        {
          "output_type": "stream",
          "name": "stdout",
          "text": [
            "10\n"
          ]
        }
      ],
      "source": [
        "Z = np.random.uniform(0,1,(10,10))\n",
        "U, S, V = np.linalg.svd(Z) # Singular Value Decomposition\n",
        "rank = np.sum(S > 1e-10)\n",
        "print(rank)"
      ]
    },
    {
      "cell_type": "markdown",
      "metadata": {
        "id": "pBmW7WK4fK10"
      },
      "source": [
        "#### 83. How to find the most frequent value in an array? \n",
        "(**hint**: np.bincount, argmax)"
      ]
    },
    {
      "cell_type": "code",
      "execution_count": 83,
      "metadata": {
        "id": "-atKp2cmfK11",
        "colab": {
          "base_uri": "https://localhost:8080/"
        },
        "outputId": "3c7bde11-d5aa-4fef-9ce6-314ff8113434"
      },
      "outputs": [
        {
          "output_type": "stream",
          "name": "stdout",
          "text": [
            "7\n"
          ]
        }
      ],
      "source": [
        "aray = np.random.randint(0,10,50)\n",
        "print(np.bincount(aray).argmax())"
      ]
    },
    {
      "cell_type": "markdown",
      "metadata": {
        "id": "SWstiFGzfK11"
      },
      "source": [
        "#### 84. Extract all the contiguous 3x3 blocks from a random 10x10 matrix (★★★) \n",
        "(**hint**: stride\\_tricks.as\\_strided)"
      ]
    },
    {
      "cell_type": "code",
      "execution_count": 84,
      "metadata": {
        "id": "lNX1AymQfK12",
        "colab": {
          "base_uri": "https://localhost:8080/"
        },
        "outputId": "f819ceb6-1781-444f-ff6c-208895ec5ced"
      },
      "outputs": [
        {
          "output_type": "stream",
          "name": "stdout",
          "text": [
            "[[[[1 3 2]\n",
            "   [2 4 2]\n",
            "   [0 0 4]]\n",
            "\n",
            "  [[3 2 1]\n",
            "   [4 2 4]\n",
            "   [0 4 0]]\n",
            "\n",
            "  [[2 1 2]\n",
            "   [2 4 3]\n",
            "   [4 0 4]]\n",
            "\n",
            "  [[1 2 0]\n",
            "   [4 3 3]\n",
            "   [0 4 0]]\n",
            "\n",
            "  [[2 0 0]\n",
            "   [3 3 2]\n",
            "   [4 0 4]]\n",
            "\n",
            "  [[0 0 0]\n",
            "   [3 2 2]\n",
            "   [0 4 3]]\n",
            "\n",
            "  [[0 0 3]\n",
            "   [2 2 2]\n",
            "   [4 3 2]]\n",
            "\n",
            "  [[0 3 1]\n",
            "   [2 2 0]\n",
            "   [3 2 3]]]\n",
            "\n",
            "\n",
            " [[[2 4 2]\n",
            "   [0 0 4]\n",
            "   [3 1 4]]\n",
            "\n",
            "  [[4 2 4]\n",
            "   [0 4 0]\n",
            "   [1 4 0]]\n",
            "\n",
            "  [[2 4 3]\n",
            "   [4 0 4]\n",
            "   [4 0 2]]\n",
            "\n",
            "  [[4 3 3]\n",
            "   [0 4 0]\n",
            "   [0 2 4]]\n",
            "\n",
            "  [[3 3 2]\n",
            "   [4 0 4]\n",
            "   [2 4 2]]\n",
            "\n",
            "  [[3 2 2]\n",
            "   [0 4 3]\n",
            "   [4 2 4]]\n",
            "\n",
            "  [[2 2 2]\n",
            "   [4 3 2]\n",
            "   [2 4 0]]\n",
            "\n",
            "  [[2 2 0]\n",
            "   [3 2 3]\n",
            "   [4 0 2]]]\n",
            "\n",
            "\n",
            " [[[0 0 4]\n",
            "   [3 1 4]\n",
            "   [3 4 1]]\n",
            "\n",
            "  [[0 4 0]\n",
            "   [1 4 0]\n",
            "   [4 1 1]]\n",
            "\n",
            "  [[4 0 4]\n",
            "   [4 0 2]\n",
            "   [1 1 4]]\n",
            "\n",
            "  [[0 4 0]\n",
            "   [0 2 4]\n",
            "   [1 4 3]]\n",
            "\n",
            "  [[4 0 4]\n",
            "   [2 4 2]\n",
            "   [4 3 4]]\n",
            "\n",
            "  [[0 4 3]\n",
            "   [4 2 4]\n",
            "   [3 4 1]]\n",
            "\n",
            "  [[4 3 2]\n",
            "   [2 4 0]\n",
            "   [4 1 0]]\n",
            "\n",
            "  [[3 2 3]\n",
            "   [4 0 2]\n",
            "   [1 0 2]]]\n",
            "\n",
            "\n",
            " [[[3 1 4]\n",
            "   [3 4 1]\n",
            "   [3 1 2]]\n",
            "\n",
            "  [[1 4 0]\n",
            "   [4 1 1]\n",
            "   [1 2 0]]\n",
            "\n",
            "  [[4 0 2]\n",
            "   [1 1 4]\n",
            "   [2 0 2]]\n",
            "\n",
            "  [[0 2 4]\n",
            "   [1 4 3]\n",
            "   [0 2 2]]\n",
            "\n",
            "  [[2 4 2]\n",
            "   [4 3 4]\n",
            "   [2 2 3]]\n",
            "\n",
            "  [[4 2 4]\n",
            "   [3 4 1]\n",
            "   [2 3 2]]\n",
            "\n",
            "  [[2 4 0]\n",
            "   [4 1 0]\n",
            "   [3 2 4]]\n",
            "\n",
            "  [[4 0 2]\n",
            "   [1 0 2]\n",
            "   [2 4 0]]]\n",
            "\n",
            "\n",
            " [[[3 4 1]\n",
            "   [3 1 2]\n",
            "   [3 1 2]]\n",
            "\n",
            "  [[4 1 1]\n",
            "   [1 2 0]\n",
            "   [1 2 4]]\n",
            "\n",
            "  [[1 1 4]\n",
            "   [2 0 2]\n",
            "   [2 4 0]]\n",
            "\n",
            "  [[1 4 3]\n",
            "   [0 2 2]\n",
            "   [4 0 0]]\n",
            "\n",
            "  [[4 3 4]\n",
            "   [2 2 3]\n",
            "   [0 0 1]]\n",
            "\n",
            "  [[3 4 1]\n",
            "   [2 3 2]\n",
            "   [0 1 2]]\n",
            "\n",
            "  [[4 1 0]\n",
            "   [3 2 4]\n",
            "   [1 2 2]]\n",
            "\n",
            "  [[1 0 2]\n",
            "   [2 4 0]\n",
            "   [2 2 1]]]\n",
            "\n",
            "\n",
            " [[[3 1 2]\n",
            "   [3 1 2]\n",
            "   [1 0 2]]\n",
            "\n",
            "  [[1 2 0]\n",
            "   [1 2 4]\n",
            "   [0 2 3]]\n",
            "\n",
            "  [[2 0 2]\n",
            "   [2 4 0]\n",
            "   [2 3 4]]\n",
            "\n",
            "  [[0 2 2]\n",
            "   [4 0 0]\n",
            "   [3 4 0]]\n",
            "\n",
            "  [[2 2 3]\n",
            "   [0 0 1]\n",
            "   [4 0 0]]\n",
            "\n",
            "  [[2 3 2]\n",
            "   [0 1 2]\n",
            "   [0 0 1]]\n",
            "\n",
            "  [[3 2 4]\n",
            "   [1 2 2]\n",
            "   [0 1 2]]\n",
            "\n",
            "  [[2 4 0]\n",
            "   [2 2 1]\n",
            "   [1 2 4]]]\n",
            "\n",
            "\n",
            " [[[3 1 2]\n",
            "   [1 0 2]\n",
            "   [4 0 4]]\n",
            "\n",
            "  [[1 2 4]\n",
            "   [0 2 3]\n",
            "   [0 4 4]]\n",
            "\n",
            "  [[2 4 0]\n",
            "   [2 3 4]\n",
            "   [4 4 0]]\n",
            "\n",
            "  [[4 0 0]\n",
            "   [3 4 0]\n",
            "   [4 0 1]]\n",
            "\n",
            "  [[0 0 1]\n",
            "   [4 0 0]\n",
            "   [0 1 1]]\n",
            "\n",
            "  [[0 1 2]\n",
            "   [0 0 1]\n",
            "   [1 1 2]]\n",
            "\n",
            "  [[1 2 2]\n",
            "   [0 1 2]\n",
            "   [1 2 0]]\n",
            "\n",
            "  [[2 2 1]\n",
            "   [1 2 4]\n",
            "   [2 0 3]]]\n",
            "\n",
            "\n",
            " [[[1 0 2]\n",
            "   [4 0 4]\n",
            "   [1 1 2]]\n",
            "\n",
            "  [[0 2 3]\n",
            "   [0 4 4]\n",
            "   [1 2 1]]\n",
            "\n",
            "  [[2 3 4]\n",
            "   [4 4 0]\n",
            "   [2 1 2]]\n",
            "\n",
            "  [[3 4 0]\n",
            "   [4 0 1]\n",
            "   [1 2 1]]\n",
            "\n",
            "  [[4 0 0]\n",
            "   [0 1 1]\n",
            "   [2 1 4]]\n",
            "\n",
            "  [[0 0 1]\n",
            "   [1 1 2]\n",
            "   [1 4 3]]\n",
            "\n",
            "  [[0 1 2]\n",
            "   [1 2 0]\n",
            "   [4 3 4]]\n",
            "\n",
            "  [[1 2 4]\n",
            "   [2 0 3]\n",
            "   [3 4 3]]]]\n"
          ]
        }
      ],
      "source": [
        "Z = np.random.randint(0,5,(10,10))\n",
        "n = 3\n",
        "i = 1 + (Z.shape[0]-3)\n",
        "j = 1 + (Z.shape[1]-3)\n",
        "C = stride_tricks.as_strided(Z, shape=(i, j, n, n), strides=Z.strides + Z.strides)\n",
        "print(C)"
      ]
    },
    {
      "cell_type": "markdown",
      "metadata": {
        "id": "q_78qy89fK13"
      },
      "source": [
        "#### 85. Create a 2D array subclass such that Z\\[i,j\\] == Z\\[j,i\\] (★★★) \n",
        "(**hint**: class method)"
      ]
    },
    {
      "cell_type": "code",
      "execution_count": 85,
      "metadata": {
        "id": "kgSJtLEofK14",
        "colab": {
          "base_uri": "https://localhost:8080/"
        },
        "outputId": "d8b64101-5776-440d-bed2-951b4b6e1638"
      },
      "outputs": [
        {
          "output_type": "stream",
          "name": "stdout",
          "text": [
            "[[ 0 11 10 11 12]\n",
            " [11  2  6  7  4]\n",
            " [10  6  9 42 12]\n",
            " [11  7 42  0 11]\n",
            " [12  4 12 11  3]]\n"
          ]
        }
      ],
      "source": [
        "class Symetric(np.ndarray):\n",
        "    def __setitem__(self, index, value):\n",
        "        i,j = index\n",
        "        super(Symetric, self).__setitem__((i,j), value)\n",
        "        super(Symetric, self).__setitem__((j,i), value)\n",
        "\n",
        "def symetric(Z):\n",
        "    return np.asarray(Z + Z.T - np.diag(Z.diagonal())).view(Symetric)\n",
        "\n",
        "S = symetric(np.random.randint(0,10,(5,5)))\n",
        "S[2,3] = 42\n",
        "print(S)"
      ]
    },
    {
      "cell_type": "markdown",
      "metadata": {
        "id": "S_UJJdWpfK15"
      },
      "source": [
        "#### 86. Consider a set of p matrices wich shape (n,n) and a set of p vectors with shape (n,1). How to compute the sum of of the p matrix products at once? (result has shape (n,1)) (★★★) \n",
        "(**hint**: np.tensordot)"
      ]
    },
    {
      "cell_type": "code",
      "execution_count": 86,
      "metadata": {
        "id": "W1D9UalSfK16",
        "colab": {
          "base_uri": "https://localhost:8080/"
        },
        "outputId": "d3400c47-5859-4acd-cc2f-4222bac09132"
      },
      "outputs": [
        {
          "output_type": "stream",
          "name": "stdout",
          "text": [
            "[[200.]\n",
            " [200.]\n",
            " [200.]\n",
            " [200.]\n",
            " [200.]\n",
            " [200.]\n",
            " [200.]\n",
            " [200.]\n",
            " [200.]\n",
            " [200.]\n",
            " [200.]\n",
            " [200.]\n",
            " [200.]\n",
            " [200.]\n",
            " [200.]\n",
            " [200.]\n",
            " [200.]\n",
            " [200.]\n",
            " [200.]\n",
            " [200.]]\n"
          ]
        }
      ],
      "source": [
        "p, n = 10, 20\n",
        "M = np.ones((p,n,n))\n",
        "V = np.ones((p,n,1))\n",
        "S = np.tensordot(M, V, axes=[[0, 2], [0, 1]])\n",
        "print(S)"
      ]
    },
    {
      "cell_type": "markdown",
      "metadata": {
        "id": "LvrweEDyfK17"
      },
      "source": [
        "#### 87. Consider a 16x16 array, how to get the block-sum (block size is 4x4)? (★★★) \n",
        "(**hint**: np.add.reduceat)"
      ]
    },
    {
      "cell_type": "code",
      "execution_count": 87,
      "metadata": {
        "id": "RHIqyUXmfK18",
        "colab": {
          "base_uri": "https://localhost:8080/"
        },
        "outputId": "b172dcc8-1264-44e9-de7d-53ab53e8a97e"
      },
      "outputs": [
        {
          "output_type": "stream",
          "name": "stdout",
          "text": [
            "[[16. 16. 16. 16.]\n",
            " [16. 16. 16. 16.]\n",
            " [16. 16. 16. 16.]\n",
            " [16. 16. 16. 16.]]\n"
          ]
        }
      ],
      "source": [
        "\n",
        "x = np.ones((16,16))\n",
        "k = 4\n",
        "S = np.add.reduceat(np.add.reduceat(x, np.arange(0, x.shape[0], k), axis=0),\n",
        "                                       np.arange(0, x.shape[1], k), axis=1)\n",
        "print(S)"
      ]
    },
    {
      "cell_type": "markdown",
      "metadata": {
        "id": "yVcw3TnrfK19"
      },
      "source": [
        "#### 88. How to implement the Game of Life using numpy arrays? (★★★)"
      ]
    },
    {
      "cell_type": "code",
      "execution_count": 88,
      "metadata": {
        "id": "ZQbMLiEFfK19",
        "colab": {
          "base_uri": "https://localhost:8080/"
        },
        "outputId": "514b9e14-1dd3-4e81-e881-3002b0bba578"
      },
      "outputs": [
        {
          "output_type": "stream",
          "name": "stdout",
          "text": [
            "[[0 0 0 0 0 0 0 0 0 0 0 0 0 0 0 0 0 0 0 0 0 0 0 0 0 0 0 0 0 0 0 0 0 0 0 0 0 0 0 0 0 0 0 0 0 0 0 0 0 0]\n",
            " [0 0 0 0 0 0 0 0 0 0 0 0 0 0 0 0 0 0 0 0 0 0 0 0 0 0 0 0 0 0 0 0 0 0 0 0 0 0 0 0 0 0 0 0 0 0 0 0 0 0]\n",
            " [0 0 0 0 0 0 0 0 0 0 0 0 0 0 0 0 0 0 0 0 0 0 0 0 0 0 0 0 0 0 0 0 0 0 0 0 0 0 0 0 0 0 0 0 0 0 0 0 0 0]\n",
            " [0 0 0 0 0 0 0 0 0 0 0 0 0 0 0 0 0 0 0 0 0 0 0 0 0 0 0 0 0 0 0 0 0 1 1 1 0 0 0 0 0 1 1 0 0 0 0 0 0 0]\n",
            " [0 0 0 0 0 0 0 0 0 0 0 0 0 0 0 0 0 0 0 0 0 0 0 0 0 0 0 0 0 0 0 0 0 0 0 0 0 0 0 0 0 1 1 0 0 0 0 0 0 0]\n",
            " [0 0 0 0 0 0 0 0 0 0 0 0 1 1 0 0 0 0 0 0 0 0 0 0 0 0 0 0 0 0 0 0 0 0 0 0 0 0 0 0 0 0 0 0 0 0 0 0 0 0]\n",
            " [0 0 0 0 0 0 0 0 0 0 0 0 1 1 0 0 0 0 0 0 0 0 0 0 0 0 0 0 0 0 0 0 0 0 0 0 0 0 0 0 0 0 0 0 0 0 0 0 0 0]\n",
            " [0 0 0 0 0 0 0 0 0 0 0 0 1 1 0 0 0 0 0 0 0 0 0 0 0 0 0 0 0 0 0 0 0 0 0 0 0 0 0 0 0 0 0 0 0 0 0 0 0 0]\n",
            " [0 0 0 0 0 0 0 0 0 0 0 0 0 0 1 0 0 0 0 0 0 0 0 0 0 0 0 0 0 0 0 0 0 0 0 0 0 0 0 0 0 0 0 0 0 0 0 0 0 0]\n",
            " [0 0 0 0 0 0 0 0 0 0 0 0 0 0 0 0 0 0 0 0 0 0 0 0 0 0 0 0 0 0 1 1 0 0 0 0 0 0 0 0 0 0 0 0 0 0 0 0 0 0]\n",
            " [0 0 0 0 0 0 0 0 0 0 0 0 0 1 0 1 0 0 0 0 0 0 0 0 0 0 0 0 0 0 1 0 1 0 0 0 0 0 0 0 0 0 0 0 0 0 0 0 0 0]\n",
            " [0 0 0 0 0 0 0 0 0 0 0 0 0 0 1 0 0 0 0 0 0 0 0 0 0 0 0 0 0 0 0 1 0 0 0 0 0 0 0 0 0 0 0 0 0 0 0 0 0 0]\n",
            " [0 0 0 0 0 0 0 0 0 0 0 0 0 0 0 0 0 0 0 0 0 0 0 0 0 0 0 0 0 0 0 0 0 0 0 0 0 0 1 1 0 0 0 0 0 0 0 0 0 0]\n",
            " [0 0 0 0 0 0 0 0 0 0 0 0 0 0 0 0 0 0 0 0 0 0 0 0 0 0 0 0 0 0 0 0 0 0 0 0 0 1 0 0 1 0 0 0 0 0 0 0 0 0]\n",
            " [0 0 0 0 0 0 0 0 0 0 0 0 0 0 0 0 0 0 0 0 0 0 0 0 0 0 0 0 0 0 0 0 0 0 0 0 0 1 0 1 0 0 0 0 0 0 0 0 0 0]\n",
            " [0 0 0 0 0 0 0 0 0 0 0 0 0 0 0 0 0 0 0 0 0 0 0 0 0 0 0 0 0 0 0 0 0 0 0 0 0 0 1 0 0 0 0 0 0 0 0 0 0 0]\n",
            " [0 0 0 0 0 0 0 0 0 0 0 0 0 0 0 0 0 0 0 0 0 0 0 0 0 0 0 0 0 0 0 0 0 0 0 0 0 0 0 0 0 0 0 0 0 0 0 0 0 0]\n",
            " [0 0 1 1 0 0 0 0 0 0 0 0 0 0 0 0 0 0 0 0 0 0 0 0 0 0 0 0 0 0 0 0 0 0 0 0 0 0 0 0 0 0 0 0 0 0 0 0 0 0]\n",
            " [0 1 0 0 1 0 0 0 0 0 0 0 0 0 0 0 0 0 0 0 0 0 0 0 0 0 0 0 0 0 0 0 0 0 0 0 0 0 0 0 0 0 0 0 0 0 0 0 0 0]\n",
            " [0 1 0 1 0 0 0 0 0 0 0 0 0 0 0 0 0 0 0 0 0 0 0 0 0 0 0 0 0 0 0 0 0 0 0 0 0 0 0 0 0 0 0 0 0 0 0 0 0 0]\n",
            " [0 0 1 0 0 0 0 0 0 0 0 0 0 0 0 0 0 0 0 0 0 0 0 0 0 0 0 0 0 0 0 0 0 0 0 0 0 0 0 0 0 0 0 0 0 0 0 0 0 0]\n",
            " [0 0 0 0 0 0 0 0 0 0 0 0 0 0 0 0 0 0 0 0 0 0 0 0 0 0 0 0 0 0 0 0 0 0 0 0 0 0 0 0 0 0 0 0 0 0 0 0 0 0]\n",
            " [0 0 0 0 0 0 0 0 0 0 0 0 0 0 0 0 0 0 0 0 0 0 0 0 0 0 0 0 0 0 0 0 0 0 0 0 0 0 0 0 0 0 0 0 0 0 0 1 1 0]\n",
            " [0 0 0 0 0 0 0 0 0 0 0 0 0 0 0 0 0 0 0 0 0 0 0 0 0 0 0 0 0 0 0 0 0 0 0 0 0 0 0 0 0 0 0 0 0 0 0 1 1 0]\n",
            " [0 0 0 0 0 0 0 0 0 0 0 0 0 0 0 0 0 0 0 0 0 0 0 0 0 0 0 0 0 0 0 0 0 0 0 0 0 0 0 0 0 0 0 0 0 0 0 0 0 0]\n",
            " [0 0 0 0 0 0 0 0 0 0 0 0 1 0 0 0 0 0 0 0 0 0 0 0 0 0 0 0 0 0 0 0 0 0 0 0 0 0 0 0 0 0 0 0 0 0 0 0 0 0]\n",
            " [0 0 0 0 0 0 0 0 0 0 0 0 1 1 1 1 1 1 0 0 0 0 0 0 0 0 0 0 0 0 0 1 1 1 0 0 0 0 1 0 0 0 0 0 0 0 0 0 0 0]\n",
            " [0 0 0 0 0 0 0 0 0 0 0 0 1 1 1 1 1 0 0 0 0 0 0 0 0 0 0 0 0 0 0 0 0 0 0 0 0 1 0 1 0 0 0 0 0 0 0 0 0 0]\n",
            " [0 0 0 0 0 0 0 0 0 0 0 0 0 0 0 1 1 0 1 0 0 0 0 0 0 0 0 0 0 0 1 0 0 1 0 0 1 0 0 1 0 0 0 0 0 0 0 0 0 0]\n",
            " [0 0 0 0 0 0 0 0 0 0 0 0 1 0 0 0 0 1 1 0 0 0 0 0 0 0 0 0 0 1 1 0 1 1 0 0 1 0 0 0 0 0 0 0 0 0 0 0 0 0]\n",
            " [0 0 0 0 0 0 0 0 0 0 0 0 1 0 0 0 0 0 0 0 0 0 0 0 0 0 0 0 0 0 1 0 0 0 0 0 1 1 0 0 0 0 0 0 0 0 0 0 0 0]\n",
            " [0 0 0 0 0 0 0 0 0 0 0 0 1 0 0 0 0 0 0 0 0 0 0 0 0 0 0 0 0 0 0 0 0 0 0 0 0 0 0 0 0 0 0 0 0 0 0 0 0 0]\n",
            " [0 0 0 0 0 0 0 0 0 0 0 0 0 0 0 0 0 0 0 0 0 0 0 0 0 0 0 0 0 0 0 0 0 0 0 0 0 0 0 0 0 0 0 0 0 0 0 0 0 0]\n",
            " [0 0 0 0 0 0 0 0 0 0 0 0 0 0 0 0 0 0 0 0 0 0 0 0 0 0 0 0 0 0 0 0 0 0 0 0 0 0 0 0 0 0 0 0 0 0 0 0 0 0]\n",
            " [0 0 0 0 0 0 0 0 0 0 0 0 0 0 0 0 0 0 0 0 0 0 0 0 0 0 0 0 0 0 0 0 0 0 0 0 0 0 0 0 0 0 0 0 0 0 0 0 0 0]\n",
            " [0 0 0 0 0 0 0 0 0 0 0 0 0 0 0 0 0 0 1 0 0 0 0 0 0 0 0 0 0 0 0 0 0 0 0 0 0 0 0 0 0 0 0 1 0 0 0 0 0 0]\n",
            " [0 0 0 0 0 0 0 0 0 0 0 0 0 0 0 0 0 0 1 0 0 0 0 0 0 0 0 0 0 0 0 0 0 0 0 0 0 0 0 0 0 0 1 1 1 0 0 0 0 0]\n",
            " [0 0 1 0 0 0 0 0 0 0 0 0 0 0 0 0 0 0 1 0 0 0 0 0 0 0 0 0 0 0 0 0 0 0 0 0 0 0 0 0 0 1 0 0 1 0 0 0 0 0]\n",
            " [0 0 1 0 0 0 0 0 1 1 0 0 0 0 0 0 0 0 0 0 0 0 0 0 0 0 0 0 0 0 0 0 0 0 0 0 0 0 0 0 0 1 1 0 0 0 0 0 0 0]\n",
            " [0 0 1 0 0 0 0 1 0 0 1 0 0 0 0 0 0 0 0 0 0 0 0 0 0 0 0 0 0 0 0 0 0 0 0 0 0 0 0 0 0 0 0 0 0 0 0 0 0 0]\n",
            " [0 0 0 0 0 0 0 0 1 1 0 0 0 0 0 0 0 0 0 0 0 0 1 1 1 0 0 0 0 0 0 0 0 0 0 0 0 0 0 0 0 0 0 0 0 0 0 0 0 0]\n",
            " [0 0 0 0 0 0 0 0 0 0 0 0 0 0 0 0 0 0 0 0 0 0 1 0 1 0 0 0 0 0 0 0 0 0 0 0 0 0 0 0 0 0 0 0 0 0 0 0 0 0]\n",
            " [0 0 0 0 0 0 0 0 0 0 0 0 0 0 0 0 0 0 0 0 0 0 0 0 1 0 0 0 0 0 0 0 0 0 0 0 0 0 0 0 0 0 0 0 0 0 0 0 0 0]\n",
            " [0 0 0 0 0 0 0 0 0 0 0 0 0 0 0 0 0 0 0 0 0 0 1 1 0 0 0 0 0 0 0 0 0 0 0 0 0 0 0 0 0 0 0 0 0 0 0 0 0 0]\n",
            " [0 0 0 0 0 0 0 0 0 0 0 0 0 0 0 0 0 0 0 0 0 1 1 1 0 0 0 0 0 0 0 0 0 0 0 0 0 0 0 0 0 0 0 0 0 0 0 0 0 0]\n",
            " [0 0 0 0 0 0 0 0 0 0 0 0 0 0 0 0 0 0 0 0 0 1 1 0 0 0 0 0 0 0 0 0 0 0 0 0 0 0 0 0 0 0 0 0 1 1 0 0 0 0]\n",
            " [0 0 0 0 0 0 0 0 0 0 0 0 0 0 0 0 0 0 0 0 1 1 0 0 0 0 0 0 0 0 0 0 0 0 0 0 0 0 0 0 0 0 0 0 1 1 0 0 0 0]\n",
            " [0 0 0 0 0 0 0 0 0 0 0 0 0 0 0 0 0 0 0 0 0 1 1 0 0 0 0 0 0 0 0 0 0 0 0 0 0 0 0 0 0 0 0 0 0 0 0 0 0 0]\n",
            " [0 0 0 0 0 0 0 0 0 0 0 0 0 0 0 0 0 0 0 0 0 0 0 0 0 0 0 0 0 0 0 0 0 0 0 0 0 0 0 0 0 0 0 0 0 0 0 0 0 0]\n",
            " [0 0 0 0 0 0 0 0 0 0 0 0 0 0 0 0 0 0 0 0 0 0 0 0 0 0 0 0 0 0 0 0 0 0 0 0 0 0 0 0 0 0 0 0 0 0 0 0 0 0]]\n"
          ]
        }
      ],
      "source": [
        "def iterate(Z):\n",
        "    N = (Z[0:-2,0:-2] + Z[0:-2,1:-1] + Z[0:-2,2:] +\n",
        "         Z[1:-1,0:-2]                + Z[1:-1,2:] +\n",
        "         Z[2:  ,0:-2] + Z[2:  ,1:-1] + Z[2:  ,2:])\n",
        "\n",
        "    birth = (N==3) & (Z[1:-1,1:-1]==0)\n",
        "    survive = ((N==2) | (N==3)) & (Z[1:-1,1:-1]==1)\n",
        "    Z[...] = 0\n",
        "    Z[1:-1,1:-1][birth | survive] = 1\n",
        "    return Z\n",
        "\n",
        "Z = np.random.randint(0,2,(50,50))\n",
        "for i in range(100): Z = iterate(Z)\n",
        "print(Z)"
      ]
    },
    {
      "cell_type": "markdown",
      "metadata": {
        "id": "bmOQiTzdfK1-"
      },
      "source": [
        "#### 89. How to get the n largest values of an array (★★★) \n",
        "(**hint**: np.argsort | np.argpartition)"
      ]
    },
    {
      "cell_type": "code",
      "execution_count": 89,
      "metadata": {
        "id": "tHAxxz1NfK1_",
        "colab": {
          "base_uri": "https://localhost:8080/"
        },
        "outputId": "aea6b302-db2e-4d3d-f5ba-1fd4e1c03804"
      },
      "outputs": [
        {
          "output_type": "stream",
          "name": "stdout",
          "text": [
            "[9997 9999 9998 9996 9995]\n"
          ]
        }
      ],
      "source": [
        "x = np.arange(10000)\n",
        "np.random.shuffle(x)\n",
        "n = 5\n",
        "\n",
        "print (x[np.argpartition(-x,n)[:n]])"
      ]
    },
    {
      "cell_type": "markdown",
      "metadata": {
        "id": "Ypp-n5IVfK2B"
      },
      "source": [
        "#### 90. Given an arbitrary number of vectors, build the cartesian product (every combinations of every item) (★★★) \n",
        "(**hint**: np.indices)"
      ]
    },
    {
      "cell_type": "code",
      "execution_count": 90,
      "metadata": {
        "scrolled": true,
        "id": "VueMdXLMfK2C",
        "colab": {
          "base_uri": "https://localhost:8080/"
        },
        "outputId": "d3f6c65c-0d9d-4bd2-9cc9-7bda45df36e5"
      },
      "outputs": [
        {
          "output_type": "stream",
          "name": "stdout",
          "text": [
            "[[1 4 6]\n",
            " [1 4 7]\n",
            " [1 5 6]\n",
            " [1 5 7]\n",
            " [2 4 6]\n",
            " [2 4 7]\n",
            " [2 5 6]\n",
            " [2 5 7]\n",
            " [3 4 6]\n",
            " [3 4 7]\n",
            " [3 5 6]\n",
            " [3 5 7]]\n"
          ]
        }
      ],
      "source": [
        "def cartesian(arrays):\n",
        "    arrays = [np.asarray(a) for a in arrays]\n",
        "    shape = (len(x) for x in arrays)\n",
        "\n",
        "    ix = np.indices(shape, dtype=int)\n",
        "    ix = ix.reshape(len(arrays), -1).T\n",
        "\n",
        "    for n, arr in enumerate(arrays):\n",
        "        ix[:, n] = arrays[n][ix[:, n]]\n",
        "\n",
        "    return ix\n",
        "\n",
        "print (cartesian(([1, 2, 3], [4, 5], [6, 7])))"
      ]
    },
    {
      "cell_type": "markdown",
      "metadata": {
        "id": "v7qOEk1XfK2C"
      },
      "source": [
        "#### 91. How to create a record array from a regular array? (★★★) \n",
        "(**hint**: np.core.records.fromarrays)"
      ]
    },
    {
      "cell_type": "code",
      "execution_count": 91,
      "metadata": {
        "id": "6RXnilLgfK2D",
        "colab": {
          "base_uri": "https://localhost:8080/"
        },
        "outputId": "06b402dd-d464-4e63-f61e-37301e1210f0"
      },
      "outputs": [
        {
          "output_type": "stream",
          "name": "stdout",
          "text": [
            "[(b'Hello', 2.5, 3) (b'World', 3.6, 2)]\n"
          ]
        }
      ],
      "source": [
        "x = np.array([(\"Hello\", 2.5, 3),\n",
        "              (\"World\", 3.6, 2)])\n",
        "R = np.core.records.fromarrays(x.T, \n",
        "                               names='col1, col2, col3',\n",
        "                               formats = 'S8, f8, i8')\n",
        "print(R)"
      ]
    },
    {
      "cell_type": "markdown",
      "metadata": {
        "id": "AYwF6rEzfK2E"
      },
      "source": [
        "#### 92. Consider a large vector Z, compute Z to the power of 3 using 3 different methods (★★★) \n",
        "(**hint**: np.power, \\*, np.einsum)"
      ]
    },
    {
      "cell_type": "code",
      "execution_count": 92,
      "metadata": {
        "id": "bvNa4ZoAfK2F",
        "colab": {
          "base_uri": "https://localhost:8080/"
        },
        "outputId": "e56e3a81-98d8-4543-86ee-cf00db04c28b"
      },
      "outputs": [
        {
          "output_type": "stream",
          "name": "stdout",
          "text": [
            "The slowest run took 13.89 times longer than the fastest. This could mean that an intermediate result is being cached.\n",
            "100000 loops, best of 5: 2.05 µs per loop\n",
            "The slowest run took 11.82 times longer than the fastest. This could mean that an intermediate result is being cached.\n",
            "1000000 loops, best of 5: 1.28 µs per loop\n",
            "The slowest run took 13.00 times longer than the fastest. This could mean that an intermediate result is being cached.\n",
            "100000 loops, best of 5: 3.25 µs per loop\n"
          ]
        }
      ],
      "source": [
        "\n",
        "x = np.random.rand(5)\n",
        "\n",
        "%timeit np.power(x,3)\n",
        "%timeit x*x*x\n",
        "%timeit np.einsum('i,i,i->i',x,x,x)"
      ]
    },
    {
      "cell_type": "markdown",
      "metadata": {
        "id": "cG5wOlKJfK2F"
      },
      "source": [
        "#### 93. Consider two arrays A and B of shape (8,3) and (2,2). How to find rows of A that contain elements of each row of B regardless of the order of the elements in B? (★★★) \n",
        "(**hint**: np.where)"
      ]
    },
    {
      "cell_type": "code",
      "execution_count": 93,
      "metadata": {
        "id": "DGTxct5pfK2G",
        "colab": {
          "base_uri": "https://localhost:8080/"
        },
        "outputId": "88df3756-4937-42e8-a37a-4f81c983504b"
      },
      "outputs": [
        {
          "output_type": "stream",
          "name": "stdout",
          "text": [
            "[0 1 2 4 5 6]\n"
          ]
        }
      ],
      "source": [
        "A = np.random.randint(0,5,(8,3))\n",
        "B = np.random.randint(0,5,(2,2))\n",
        "\n",
        "C = (A[..., np.newaxis, np.newaxis] == B)\n",
        "rows = np.where(C.any((3,1)).all(1))[0]\n",
        "print(rows)"
      ]
    },
    {
      "cell_type": "markdown",
      "metadata": {
        "id": "odeVinR6fK2H"
      },
      "source": [
        "#### 94. Considering a 10x3 matrix, extract rows with unequal values (e.g. \\[2,2,3\\]) (★★★)"
      ]
    },
    {
      "cell_type": "code",
      "execution_count": 94,
      "metadata": {
        "id": "lGzP-GB1fK2I",
        "colab": {
          "base_uri": "https://localhost:8080/"
        },
        "outputId": "fdddb2d8-0e6a-4c30-ce66-9ee278bfe546"
      },
      "outputs": [
        {
          "output_type": "stream",
          "name": "stdout",
          "text": [
            "[[3 3 3]\n",
            " [3 4 4]\n",
            " [4 1 1]\n",
            " [0 3 4]\n",
            " [1 4 4]\n",
            " [1 4 3]\n",
            " [3 4 2]\n",
            " [0 2 1]\n",
            " [2 3 0]\n",
            " [3 2 2]]\n",
            "[[3 4 4]\n",
            " [4 1 1]\n",
            " [0 3 4]\n",
            " [1 4 4]\n",
            " [1 4 3]\n",
            " [3 4 2]\n",
            " [0 2 1]\n",
            " [2 3 0]\n",
            " [3 2 2]]\n"
          ]
        }
      ],
      "source": [
        "x = np.random.randint(0,5,(10,3))\n",
        "print(x)\n",
        "E = np.all(x[:,1:] == x[:,:-1], axis=1)\n",
        "U = x[~E]\n",
        "print(U)"
      ]
    },
    {
      "cell_type": "markdown",
      "metadata": {
        "id": "v8i_-YXNfK2I"
      },
      "source": [
        "#### 95. Convert a vector of ints into a matrix binary representation (★★★) \n",
        "(**hint**: np.unpackbits)"
      ]
    },
    {
      "cell_type": "code",
      "execution_count": 95,
      "metadata": {
        "id": "0pYxeeRDfK2J",
        "colab": {
          "base_uri": "https://localhost:8080/"
        },
        "outputId": "a69d4450-092a-4a1f-c8cd-14827148cf5f"
      },
      "outputs": [
        {
          "output_type": "stream",
          "name": "stdout",
          "text": [
            "[[0 0 0 0 0 0 0 0]\n",
            " [0 0 0 0 0 0 0 1]\n",
            " [0 0 0 0 0 0 1 0]\n",
            " [0 0 0 0 0 0 1 1]\n",
            " [0 0 0 0 1 1 1 1]\n",
            " [0 0 0 1 0 0 0 0]\n",
            " [0 0 1 0 0 0 0 0]\n",
            " [0 1 0 0 0 0 0 0]\n",
            " [1 0 0 0 0 0 0 0]]\n",
            "[[0 0 0 0 0 0 0 0]\n",
            " [0 0 0 0 0 0 0 1]\n",
            " [0 0 0 0 0 0 1 0]\n",
            " [0 0 0 0 0 0 1 1]\n",
            " [0 0 0 0 1 1 1 1]\n",
            " [0 0 0 1 0 0 0 0]\n",
            " [0 0 1 0 0 0 0 0]\n",
            " [0 1 0 0 0 0 0 0]\n",
            " [1 0 0 0 0 0 0 0]]\n"
          ]
        }
      ],
      "source": [
        "I = np.array([0, 1, 2, 3, 15, 16, 32, 64, 128])\n",
        "B = ((I.reshape(-1,1) & (2**np.arange(8))) != 0).astype(int)\n",
        "print(B[:,::-1])\n",
        "\n",
        "I = np.array([0, 1, 2, 3, 15, 16, 32, 64, 128], dtype=np.uint8)\n",
        "print(np.unpackbits(I[:, np.newaxis], axis=1))"
      ]
    },
    {
      "cell_type": "markdown",
      "metadata": {
        "id": "v6scTrAJfK2e"
      },
      "source": [
        "#### 96. Given a two dimensional array, how to extract unique rows? (★★★) \n",
        "(**hint**: np.ascontiguousarray)"
      ]
    },
    {
      "cell_type": "code",
      "execution_count": 96,
      "metadata": {
        "id": "Zl2jzP9efK2f",
        "colab": {
          "base_uri": "https://localhost:8080/"
        },
        "outputId": "54aa8c19-35cd-493f-ac7e-04b708ddb6ed"
      },
      "outputs": [
        {
          "output_type": "stream",
          "name": "stdout",
          "text": [
            "[[0 1 0]\n",
            " [0 1 1]\n",
            " [1 1 0]]\n"
          ]
        }
      ],
      "source": [
        "Z = np.random.randint(0,2,(6,3))\n",
        "T = np.ascontiguousarray(Z).view(np.dtype((np.void, Z.dtype.itemsize * Z.shape[1])))\n",
        "_, idx = np.unique(T, return_index=True)\n",
        "uZ = Z[idx]\n",
        "print(uZ)"
      ]
    },
    {
      "cell_type": "markdown",
      "metadata": {
        "id": "tkhbQwMDfK2g"
      },
      "source": [
        "#### 97. Considering 2 vectors A & B, write the einsum equivalent of inner, outer, sum, and mul function (★★★) \n",
        "(**hint**: np.einsum)"
      ]
    },
    {
      "cell_type": "code",
      "execution_count": 97,
      "metadata": {
        "id": "Bn29cBxdfK2g",
        "colab": {
          "base_uri": "https://localhost:8080/"
        },
        "outputId": "4f92ad5c-8f41-4e30-b726-2e4d4d0fd385"
      },
      "outputs": [
        {
          "output_type": "execute_result",
          "data": {
            "text/plain": [
              "array([[0.22804353, 0.09946979, 0.14825494, 0.10365853, 0.17642368, 0.12780662, 0.1633695 , 0.08606673, 0.20270187, 0.00308355],\n",
              "       [0.47627058, 0.20774339, 0.30963153, 0.2164916 , 0.36846214, 0.26692506, 0.3411984 , 0.17975099, 0.42334435, 0.00644002],\n",
              "       [0.35091132, 0.15306322, 0.22813336, 0.15950881, 0.27147916, 0.19666767, 0.25139151, 0.1324387 , 0.31191581, 0.00474494],\n",
              "       [0.49679137, 0.21669431, 0.32297245, 0.22581945, 0.38433786, 0.27842591, 0.35589942, 0.18749582, 0.44158474, 0.0067175 ],\n",
              "       [0.10372677, 0.04524435, 0.06743452, 0.04714962, 0.08024722, 0.0581335 , 0.07430946, 0.03914789, 0.09219999, 0.00140257],\n",
              "       [0.66320009, 0.28927975, 0.43115756, 0.30146152, 0.51307836, 0.3716894 , 0.47511399, 0.25030073, 0.58950106, 0.00896764],\n",
              "       [0.36759707, 0.16034134, 0.23898105, 0.16709342, 0.28438793, 0.20601917, 0.26334512, 0.13873613, 0.32674734, 0.00497056],\n",
              "       [0.91189532, 0.39775756, 0.59283852, 0.4145074 , 0.70547903, 0.51107022, 0.65327828, 0.34416168, 0.81055969, 0.01233044],\n",
              "       [0.98196466, 0.42832095, 0.63839178, 0.44635784, 0.7596875 , 0.55034047, 0.70347569, 0.37060681, 0.87284247, 0.0132779 ],\n",
              "       [0.96123699, 0.4192798 , 0.62491637, 0.43693595, 0.74365174, 0.53872369, 0.68862647, 0.3627839 , 0.8544182 , 0.01299763]])"
            ]
          },
          "metadata": {},
          "execution_count": 97
        }
      ],
      "source": [
        "A = np.random.uniform(0,1,10)\n",
        "B = np.random.uniform(0,1,10)\n",
        "\n",
        "np.einsum('i->', A)       \n",
        "np.einsum('i,i->i', A, B) \n",
        "np.einsum('i,i', A, B)    \n",
        "np.einsum('i,j->ij', A, B)   "
      ]
    },
    {
      "cell_type": "markdown",
      "metadata": {
        "id": "zuyheD-ufK2h"
      },
      "source": [
        "#### 98. Considering a path described by two vectors (X,Y), how to sample it using equidistant samples (★★★)? \n",
        "(**hint**: np.cumsum, np.interp)"
      ]
    },
    {
      "cell_type": "code",
      "execution_count": 98,
      "metadata": {
        "collapsed": true,
        "id": "TmlTpQqrfK2i"
      },
      "outputs": [],
      "source": [
        "phi = np.arange(0, 10*np.pi, 0.1)\n",
        "a = 1\n",
        "x = a*phi*np.cos(phi)\n",
        "y = a*phi*np.sin(phi)\n",
        "\n",
        "dr = (np.diff(x)**2 + np.diff(y)**2)**.5 \n",
        "r = np.zeros_like(x)\n",
        "r[1:] = np.cumsum(dr)                \n",
        "r_int = np.linspace(0, r.max(), 200) \n",
        "x_int = np.interp(r_int, r, x)       \n",
        "y_int = np.interp(r_int, r, y)"
      ]
    },
    {
      "cell_type": "markdown",
      "metadata": {
        "id": "1IGgFsg4fK2j"
      },
      "source": [
        "#### 99. Given an integer n and a 2D array X, select from X the rows which can be interpreted as draws from a multinomial distribution with n degrees, i.e., the rows which only contain integers and which sum to n. (★★★) \n",
        "(**hint**: np.logical\\_and.reduce, np.mod)"
      ]
    },
    {
      "cell_type": "code",
      "execution_count": 99,
      "metadata": {
        "id": "w2PXlmuOfK2j",
        "colab": {
          "base_uri": "https://localhost:8080/"
        },
        "outputId": "9e66f17a-0d55-4b54-91f1-bbebf2771ce9"
      },
      "outputs": [
        {
          "output_type": "stream",
          "name": "stdout",
          "text": [
            "[[2. 0. 1. 1.]]\n"
          ]
        }
      ],
      "source": [
        "X = np.asarray([[1.0, 0.0, 3.0, 8.0],\n",
        "                [2.0, 0.0, 1.0, 1.0],\n",
        "                [1.5, 2.5, 1.0, 0.0]])\n",
        "n = 4\n",
        "M = np.logical_and.reduce(np.mod(X, 1) == 0, axis=-1)\n",
        "M &= (X.sum(axis=-1) == n)\n",
        "print(X[M])"
      ]
    },
    {
      "cell_type": "markdown",
      "metadata": {
        "id": "9Wv3akDJfK2k"
      },
      "source": [
        "#### 100. Compute bootstrapped 95% confidence intervals for the mean of a 1D array X (i.e., resample the elements of an array with replacement N times, compute the mean of each sample, and then compute percentiles over the means). (★★★) \n",
        "(**hint**: np.percentile)"
      ]
    },
    {
      "cell_type": "code",
      "execution_count": 100,
      "metadata": {
        "id": "fRXg3ADJfK2l",
        "colab": {
          "base_uri": "https://localhost:8080/"
        },
        "outputId": "900c18c6-197b-48c7-def6-3c4b8614c059"
      },
      "outputs": [
        {
          "output_type": "stream",
          "name": "stdout",
          "text": [
            "[-0.13668761  0.20959367]\n"
          ]
        }
      ],
      "source": [
        "X = np.random.randn(100) \n",
        "N = 1000\n",
        "idx = np.random.randint(0, X.size, (N, X.size))\n",
        "means = X[idx].mean(axis=1)\n",
        "confint = np.percentile(means, [2.5, 97.5])\n",
        "print(confint)"
      ]
    }
  ],
  "metadata": {
    "kernelspec": {
      "display_name": "Python 3",
      "language": "python",
      "name": "python3"
    },
    "language_info": {
      "codemirror_mode": {
        "name": "ipython",
        "version": 3
      },
      "file_extension": ".py",
      "mimetype": "text/x-python",
      "name": "python",
      "nbconvert_exporter": "python",
      "pygments_lexer": "ipython3",
      "version": "3.8.3"
    },
    "colab": {
      "name": "Task2_ Numpy_tasks.ipynb",
      "provenance": [],
      "collapsed_sections": [
        "TeGRfC3bfKzk",
        "3OLc-3ovfKzm",
        "pnzVRn8LfKzq",
        "jQDkHq92fKzs",
        "IBc4XUvgfKzv",
        "Kr8-wpMTfKzw",
        "R2X1P1awfKzy",
        "8qwNpu6kfKz0",
        "MJJOjS3sfKz2",
        "EjTte5ebfKz3",
        "3E6at7lnfKz7",
        "FyvDGSDcfKz9",
        "w1MGj0hafKz_",
        "JbD2dWfufK0B",
        "j-XFJ2XAfK0D",
        "pcm4jlHmfK0G",
        "xev_OkWqfK0I",
        "qxWaWVl0fK0K",
        "gLA4fS9zfK0M",
        "jjN-e1XTfK0P",
        "2Hew6mfVfK0R",
        "paaeQklYfK0T",
        "pVtJSXlIfK0V",
        "F2f23q1jfK0X",
        "c3I8ZgmgfK0Y",
        "xYloSEt6fK0a",
        "EGVKntScfK0d",
        "IXHn4UA-fK0e",
        "Bhao0LoefK0g",
        "jd5RuF98fK0h",
        "L0SLjuVnfK0j",
        "kHigjTP2fK0o",
        "6hnd7fGlfK0q",
        "mdCSkwrYfK0r",
        "RzlJacSjfK0t",
        "RFw5bdumfK0u",
        "NsUD5i1rfK0x",
        "Y_chwCBIfK0y",
        "3mgDgxlufK00",
        "Nw_Tg0SEfK01",
        "1FEF88z4fK03",
        "k25SmaGbfK05",
        "FfOrEjDTfK07",
        "F2VEF3aHfK08",
        "QC2JJ103fK0_",
        "rwMAyw5QfK1A",
        "bwnTzgyRfK1C",
        "Rux6goKqfK1F",
        "rhu3dXARfK1G",
        "aAsPvYt4fK1J",
        "_FVDc8M8fK1K",
        "mXdukOHXfK1M",
        "vbqAMFBXfK1N",
        "-yYjIWlzfK1P",
        "qWcSCypzfK1Q",
        "EV-wjCZqfK1S",
        "0CiIM7DsfK1T",
        "EhWWUaAvfK1V",
        "Ps9kk2l9fK1W",
        "CybJn5t-fK1Y",
        "rAASVVRnfK1a",
        "H86vdzJvfK1b",
        "Rn8yJvuRfK1d",
        "cn-3avCOfK1e",
        "MMmlYvWgfK1g",
        "ZTTSXkuwfK1i",
        "hhFoT4BdfK1j",
        "gdmyKPtWfK1m",
        "VWVsm5xBfK1n",
        "xGPW-A-MfK1q",
        "4lpP5YbHfK1s",
        "SG834juWfK1t",
        "vTHFPS7jfK1u",
        "yQvvBxJZfK1x",
        "A1eXeUZAfK1y",
        "pBmW7WK4fK10",
        "SWstiFGzfK11",
        "q_78qy89fK13",
        "S_UJJdWpfK15",
        "LvrweEDyfK17",
        "yVcw3TnrfK19",
        "bmOQiTzdfK1-",
        "Ypp-n5IVfK2B",
        "v7qOEk1XfK2C",
        "AYwF6rEzfK2E",
        "cG5wOlKJfK2F",
        "odeVinR6fK2H",
        "v8i_-YXNfK2I",
        "v6scTrAJfK2e",
        "tkhbQwMDfK2g",
        "zuyheD-ufK2h",
        "1IGgFsg4fK2j",
        "9Wv3akDJfK2k"
      ]
    }
  },
  "nbformat": 4,
  "nbformat_minor": 0
}